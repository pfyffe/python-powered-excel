{
 "cells": [
  {
   "cell_type": "markdown",
   "metadata": {},
   "source": [
    "## Lesson 04 - The HR Report\n",
    "\n",
    "#### Overview: \n",
    "\n",
    "In this lesson we're going to talk about the following:\n",
    "* Filtering DataFrames based on conditions\n",
    "\n",
    "#### Handy References:\n",
    "* [Official Python Documentation](https://docs.python.org/3/)\n",
    "* [Jupyter Notebook Documentation](https://jupyter-notebook.readthedocs.io/en/stable/notebook.html)\n",
    "* [Pandas](https://pandas.pydata.org/)\n",
    "* [XlsxWriter](https://xlsxwriter.readthedocs.io/)"
   ]
  },
  {
   "cell_type": "markdown",
   "metadata": {},
   "source": [
    "### The Data\n",
    "\n",
    "The file we're working with is /data/hr_report.xlsx.  Go ahead and take a quick look at it; it's a basic list of HR incidents with dates.  A quick glance will tell you that Jim plays a lot of pranks on Dwight and that Michael makes a monthly complaint that \"Toby is horrible\".\n",
    "\n",
    "As always, let's import our tools and define the file we'll be working with."
   ]
  },
  {
   "cell_type": "code",
   "execution_count": 10,
   "metadata": {},
   "outputs": [],
   "source": [
    "# File Imports\n",
    "import pandas as pd\n",
    "import xlsxwriter\n",
    "import os"
   ]
  },
  {
   "cell_type": "code",
   "execution_count": 11,
   "metadata": {},
   "outputs": [],
   "source": [
    "# Define the path to the file\n",
    "hr_file = os.path.join('..', 'data', 'hr_report.xlsx')"
   ]
  },
  {
   "cell_type": "markdown",
   "metadata": {},
   "source": [
    "Now we can read the file in and take a look at the various tables:"
   ]
  },
  {
   "cell_type": "code",
   "execution_count": 12,
   "metadata": {},
   "outputs": [],
   "source": [
    "frames = pd.read_excel(hr_file, sheet_name=None)"
   ]
  },
  {
   "cell_type": "code",
   "execution_count": 13,
   "metadata": {},
   "outputs": [],
   "source": [
    "df = pd.DataFrame(frames['Sheet1'])"
   ]
  },
  {
   "cell_type": "code",
   "execution_count": 14,
   "metadata": {},
   "outputs": [
    {
     "data": {
      "text/html": [
       "<div>\n",
       "<style scoped>\n",
       "    .dataframe tbody tr th:only-of-type {\n",
       "        vertical-align: middle;\n",
       "    }\n",
       "\n",
       "    .dataframe tbody tr th {\n",
       "        vertical-align: top;\n",
       "    }\n",
       "\n",
       "    .dataframe thead th {\n",
       "        text-align: right;\n",
       "    }\n",
       "</style>\n",
       "<table border=\"1\" class=\"dataframe\">\n",
       "  <thead>\n",
       "    <tr style=\"text-align: right;\">\n",
       "      <th></th>\n",
       "      <th>Date</th>\n",
       "      <th>Reporter</th>\n",
       "      <th>Employee</th>\n",
       "      <th>Complaint</th>\n",
       "    </tr>\n",
       "  </thead>\n",
       "  <tbody>\n",
       "    <tr>\n",
       "      <th>0</th>\n",
       "      <td>2019-03-01</td>\n",
       "      <td>Michael</td>\n",
       "      <td>Toby</td>\n",
       "      <td>Toby is horrible</td>\n",
       "    </tr>\n",
       "    <tr>\n",
       "      <th>1</th>\n",
       "      <td>2019-03-02</td>\n",
       "      <td>Dwight</td>\n",
       "      <td>Jim</td>\n",
       "      <td>Jim encased my stapler in Jello</td>\n",
       "    </tr>\n",
       "    <tr>\n",
       "      <th>2</th>\n",
       "      <td>2019-03-03</td>\n",
       "      <td>Andy</td>\n",
       "      <td>Jim</td>\n",
       "      <td>Jim hid my phone in the ceiling</td>\n",
       "    </tr>\n",
       "    <tr>\n",
       "      <th>3</th>\n",
       "      <td>2019-03-05</td>\n",
       "      <td>Dwight</td>\n",
       "      <td>Jim</td>\n",
       "      <td>I hit myself in the head with my phone</td>\n",
       "    </tr>\n",
       "    <tr>\n",
       "      <th>4</th>\n",
       "      <td>2019-03-09</td>\n",
       "      <td>Dwight</td>\n",
       "      <td>Jim</td>\n",
       "      <td>Jim jammed all of my desk drawers so I could o...</td>\n",
       "    </tr>\n",
       "  </tbody>\n",
       "</table>\n",
       "</div>"
      ],
      "text/plain": [
       "        Date Reporter Employee  \\\n",
       "0 2019-03-01  Michael     Toby   \n",
       "1 2019-03-02   Dwight      Jim   \n",
       "2 2019-03-03     Andy      Jim   \n",
       "3 2019-03-05   Dwight      Jim   \n",
       "4 2019-03-09   Dwight      Jim   \n",
       "\n",
       "                                           Complaint  \n",
       "0                                   Toby is horrible  \n",
       "1                    Jim encased my stapler in Jello  \n",
       "2                    Jim hid my phone in the ceiling  \n",
       "3             I hit myself in the head with my phone  \n",
       "4  Jim jammed all of my desk drawers so I could o...  "
      ]
     },
     "execution_count": 14,
     "metadata": {},
     "output_type": "execute_result"
    }
   ],
   "source": [
    "df.head()"
   ]
  },
  {
   "cell_type": "markdown",
   "metadata": {},
   "source": [
    "### Summarizing our Data:\n",
    "Even though the source is fairly basic, the output we need is a little more complicated.  We want a breakdown of employees showing the number of complaints they made and the number of complaints against them, and we want a separate sheet that only shows incidents where the same employee had three or more complaints against them in a single month.\n",
    "\n",
    "Unfortunately, we won't be able to use .groupby and .agg for this table.  We need to calculate the number of times per month that each employee made a complaint and the number of times each employee had a complaint, then assemble that data into a DataFrame.  \n",
    "\n",
    "* Step 1: Generate a unique list of all employees in the report\n",
    "* * We'll be using Python [Sets](https://docs.python.org/3/tutorial/datastructures.html#sets) for this.\n",
    "* * A Set is all of the unique values from a list.\n",
    "* Step 2: Calculate the number of complaints each employee made for each month\n",
    "* Step 3: Calculate the number of complaints each employee received for each month"
   ]
  },
  {
   "cell_type": "code",
   "execution_count": 15,
   "metadata": {},
   "outputs": [],
   "source": [
    "# Generating a unique list of all employees\n",
    "reporters = df['Reporter'].unique()\n",
    "\n",
    "# Add the\n",
    "employees = df['Employee'].unique()\n",
    "\n",
    "# Combine the lists\n",
    "all_employees = list(reporters) + list(employees)\n",
    "\n",
    "# Convert the list to a set\n",
    "all_employees = list(set(all_employees))"
   ]
  },
  {
   "cell_type": "code",
   "execution_count": 16,
   "metadata": {},
   "outputs": [
    {
     "data": {
      "text/plain": [
       "['Stanley',\n",
       " 'Toby',\n",
       " 'Jim',\n",
       " 'Angela',\n",
       " 'Phyllis',\n",
       " 'Andy',\n",
       " 'Pam',\n",
       " 'Daryl',\n",
       " 'Michael',\n",
       " 'Oscar',\n",
       " 'Ryan',\n",
       " 'Dwight']"
      ]
     },
     "execution_count": 16,
     "metadata": {},
     "output_type": "execute_result"
    }
   ],
   "source": [
    "all_employees"
   ]
  },
  {
   "cell_type": "code",
   "execution_count": 17,
   "metadata": {},
   "outputs": [
    {
     "data": {
      "text/html": [
       "<div>\n",
       "<style scoped>\n",
       "    .dataframe tbody tr th:only-of-type {\n",
       "        vertical-align: middle;\n",
       "    }\n",
       "\n",
       "    .dataframe tbody tr th {\n",
       "        vertical-align: top;\n",
       "    }\n",
       "\n",
       "    .dataframe thead th {\n",
       "        text-align: right;\n",
       "    }\n",
       "</style>\n",
       "<table border=\"1\" class=\"dataframe\">\n",
       "  <thead>\n",
       "    <tr style=\"text-align: right;\">\n",
       "      <th></th>\n",
       "      <th>Date</th>\n",
       "      <th>Reporter</th>\n",
       "      <th>Employee</th>\n",
       "      <th>Complaint</th>\n",
       "    </tr>\n",
       "  </thead>\n",
       "  <tbody>\n",
       "    <tr>\n",
       "      <th>0</th>\n",
       "      <td>2019-03-01</td>\n",
       "      <td>Michael</td>\n",
       "      <td>Toby</td>\n",
       "      <td>Toby is horrible</td>\n",
       "    </tr>\n",
       "    <tr>\n",
       "      <th>1</th>\n",
       "      <td>2019-03-02</td>\n",
       "      <td>Dwight</td>\n",
       "      <td>Jim</td>\n",
       "      <td>Jim encased my stapler in Jello</td>\n",
       "    </tr>\n",
       "    <tr>\n",
       "      <th>2</th>\n",
       "      <td>2019-03-03</td>\n",
       "      <td>Andy</td>\n",
       "      <td>Jim</td>\n",
       "      <td>Jim hid my phone in the ceiling</td>\n",
       "    </tr>\n",
       "    <tr>\n",
       "      <th>3</th>\n",
       "      <td>2019-03-05</td>\n",
       "      <td>Dwight</td>\n",
       "      <td>Jim</td>\n",
       "      <td>I hit myself in the head with my phone</td>\n",
       "    </tr>\n",
       "    <tr>\n",
       "      <th>4</th>\n",
       "      <td>2019-03-09</td>\n",
       "      <td>Dwight</td>\n",
       "      <td>Jim</td>\n",
       "      <td>Jim jammed all of my desk drawers so I could o...</td>\n",
       "    </tr>\n",
       "  </tbody>\n",
       "</table>\n",
       "</div>"
      ],
      "text/plain": [
       "        Date Reporter Employee  \\\n",
       "0 2019-03-01  Michael     Toby   \n",
       "1 2019-03-02   Dwight      Jim   \n",
       "2 2019-03-03     Andy      Jim   \n",
       "3 2019-03-05   Dwight      Jim   \n",
       "4 2019-03-09   Dwight      Jim   \n",
       "\n",
       "                                           Complaint  \n",
       "0                                   Toby is horrible  \n",
       "1                    Jim encased my stapler in Jello  \n",
       "2                    Jim hid my phone in the ceiling  \n",
       "3             I hit myself in the head with my phone  \n",
       "4  Jim jammed all of my desk drawers so I could o...  "
      ]
     },
     "execution_count": 17,
     "metadata": {},
     "output_type": "execute_result"
    }
   ],
   "source": [
    "df.head()"
   ]
  },
  {
   "cell_type": "markdown",
   "metadata": {},
   "source": [
    "#### Creating the 'Month' Column\n",
    "Just like the previous lesson, we need to create a 'Month' column based on the Date:"
   ]
  },
  {
   "cell_type": "code",
   "execution_count": 18,
   "metadata": {},
   "outputs": [],
   "source": [
    "df['Month'] = df['Date'].dt.strftime('%B')"
   ]
  },
  {
   "cell_type": "markdown",
   "metadata": {},
   "source": [
    "Now we'll calculate each employee's number of complaints for each month.  We can do that by replicating `COUNTIFS` from Excel using [df.loc](https://pandas.pydata.org/pandas-docs/stable/reference/api/pandas.DataFrame.loc.html) to find the data we want to count, and getting the the count from that data with the [len()](https://docs.python.org/3/library/functions.html#len) method.\n",
    "\n",
    "For example, if we wanted to know how many times Phyllis filed a complaint in May, we would do this:"
   ]
  },
  {
   "cell_type": "code",
   "execution_count": 19,
   "metadata": {},
   "outputs": [
    {
     "data": {
      "text/html": [
       "<div>\n",
       "<style scoped>\n",
       "    .dataframe tbody tr th:only-of-type {\n",
       "        vertical-align: middle;\n",
       "    }\n",
       "\n",
       "    .dataframe tbody tr th {\n",
       "        vertical-align: top;\n",
       "    }\n",
       "\n",
       "    .dataframe thead th {\n",
       "        text-align: right;\n",
       "    }\n",
       "</style>\n",
       "<table border=\"1\" class=\"dataframe\">\n",
       "  <thead>\n",
       "    <tr style=\"text-align: right;\">\n",
       "      <th></th>\n",
       "      <th>Date</th>\n",
       "      <th>Reporter</th>\n",
       "      <th>Employee</th>\n",
       "      <th>Complaint</th>\n",
       "      <th>Month</th>\n",
       "    </tr>\n",
       "  </thead>\n",
       "  <tbody>\n",
       "    <tr>\n",
       "      <th>25</th>\n",
       "      <td>2019-05-20</td>\n",
       "      <td>Phyllis</td>\n",
       "      <td>Andy</td>\n",
       "      <td>Andy's talks like a baby all day</td>\n",
       "      <td>May</td>\n",
       "    </tr>\n",
       "  </tbody>\n",
       "</table>\n",
       "</div>"
      ],
      "text/plain": [
       "         Date Reporter Employee                         Complaint Month\n",
       "25 2019-05-20  Phyllis     Andy  Andy's talks like a baby all day   May"
      ]
     },
     "execution_count": 19,
     "metadata": {},
     "output_type": "execute_result"
    }
   ],
   "source": [
    "# Get the Data\n",
    "df.loc[(df['Reporter'] == 'Phyllis') & (df['Month'] == 'May')]"
   ]
  },
  {
   "cell_type": "code",
   "execution_count": 20,
   "metadata": {},
   "outputs": [
    {
     "data": {
      "text/plain": [
       "1"
      ]
     },
     "execution_count": 20,
     "metadata": {},
     "output_type": "execute_result"
    }
   ],
   "source": [
    "# Get a Count from that data:\n",
    "len(df.loc[(df['Reporter'] == 'Phyllis') & (df['Month'] == 'May')])"
   ]
  },
  {
   "cell_type": "markdown",
   "metadata": {},
   "source": [
    "Let's build a function that will iterate through all employees and get our counts for a given month.  \n",
    "\n",
    "* It will take a DataFrame, a month, and an employee list as arguments.  \n",
    "* Then it will get our counts for complaints made and complaints received based on the Employee and Month.\n",
    "* We will then assign that employee's counts to a dictionary\n",
    "* Then we can convert the dictionary to a DataFrame.\n",
    "\n",
    "Before we build the function, let's run through a single month:"
   ]
  },
  {
   "cell_type": "code",
   "execution_count": 21,
   "metadata": {},
   "outputs": [],
   "source": [
    "month = 'March'\n",
    "\n",
    "# Create and empty dictionary to hold our data\n",
    "summary_data = {}\n",
    "\n",
    "# Loop through our employee list with our conditions\n",
    "for employee in all_employees:\n",
    "    complaints_made = len(df.loc[(df['Reporter'] == employee) & (df['Month'] == month)])\n",
    "    complaints_received = len(df.loc[(df['Employee'] == employee) & (df['Month'] == month)])\n",
    "    \n",
    "    # Update the dictionary with the information for that employee\n",
    "    summary_data[employee] = {'complaints_made': complaints_made, 'complaints_received': complaints_received}"
   ]
  },
  {
   "cell_type": "code",
   "execution_count": 22,
   "metadata": {},
   "outputs": [
    {
     "data": {
      "text/html": [
       "<div>\n",
       "<style scoped>\n",
       "    .dataframe tbody tr th:only-of-type {\n",
       "        vertical-align: middle;\n",
       "    }\n",
       "\n",
       "    .dataframe tbody tr th {\n",
       "        vertical-align: top;\n",
       "    }\n",
       "\n",
       "    .dataframe thead th {\n",
       "        text-align: right;\n",
       "    }\n",
       "</style>\n",
       "<table border=\"1\" class=\"dataframe\">\n",
       "  <thead>\n",
       "    <tr style=\"text-align: right;\">\n",
       "      <th></th>\n",
       "      <th>Stanley</th>\n",
       "      <th>Toby</th>\n",
       "      <th>Jim</th>\n",
       "      <th>Angela</th>\n",
       "      <th>Phyllis</th>\n",
       "      <th>Andy</th>\n",
       "      <th>Pam</th>\n",
       "      <th>Daryl</th>\n",
       "      <th>Michael</th>\n",
       "      <th>Oscar</th>\n",
       "      <th>Ryan</th>\n",
       "      <th>Dwight</th>\n",
       "    </tr>\n",
       "  </thead>\n",
       "  <tbody>\n",
       "    <tr>\n",
       "      <th>complaints_made</th>\n",
       "      <td>0</td>\n",
       "      <td>0</td>\n",
       "      <td>0</td>\n",
       "      <td>0</td>\n",
       "      <td>0</td>\n",
       "      <td>1</td>\n",
       "      <td>0</td>\n",
       "      <td>0</td>\n",
       "      <td>1</td>\n",
       "      <td>1</td>\n",
       "      <td>0</td>\n",
       "      <td>4</td>\n",
       "    </tr>\n",
       "    <tr>\n",
       "      <th>complaints_received</th>\n",
       "      <td>0</td>\n",
       "      <td>1</td>\n",
       "      <td>5</td>\n",
       "      <td>0</td>\n",
       "      <td>0</td>\n",
       "      <td>0</td>\n",
       "      <td>0</td>\n",
       "      <td>0</td>\n",
       "      <td>1</td>\n",
       "      <td>0</td>\n",
       "      <td>0</td>\n",
       "      <td>0</td>\n",
       "    </tr>\n",
       "  </tbody>\n",
       "</table>\n",
       "</div>"
      ],
      "text/plain": [
       "                     Stanley  Toby  Jim  Angela  Phyllis  Andy  Pam  Daryl  \\\n",
       "complaints_made            0     0    0       0        0     1    0      0   \n",
       "complaints_received        0     1    5       0        0     0    0      0   \n",
       "\n",
       "                     Michael  Oscar  Ryan  Dwight  \n",
       "complaints_made            1      1     0       4  \n",
       "complaints_received        1      0     0       0  "
      ]
     },
     "execution_count": 22,
     "metadata": {},
     "output_type": "execute_result"
    }
   ],
   "source": [
    "# Convert that data to a DataFrame\n",
    "pd.DataFrame(summary_data).head()"
   ]
  },
  {
   "cell_type": "markdown",
   "metadata": {},
   "source": [
    "Ok, we're getting the counts we want but the month is missing and the data is transposed.  In the function below we transpose the DataFrame and add in the month:"
   ]
  },
  {
   "cell_type": "code",
   "execution_count": 23,
   "metadata": {},
   "outputs": [],
   "source": [
    "def summarize_hr_data(df, month, employees):\n",
    "    '''Summarizes HR data by Month'''\n",
    "    # Create an empty dictionary to hold our data\n",
    "    summary_data = {}\n",
    "    # Loop through our employee list with our conditions\n",
    "    for employee in employees:\n",
    "        complaints_made = len(df.loc[(df['Reporter'] == employee) & (df['Month'] == month)])\n",
    "        complaints_received = len(df.loc[(df['Employee'] == employee) & (df['Month'] == month)])\n",
    "        summary_data[employee] = {'complaints_made': complaints_made, 'complaints_received': complaints_received}\n",
    "    \n",
    "    # Transpose the data\n",
    "    tmp_df = pd.DataFrame(summary_data).T\n",
    "    \n",
    "    # Add the Month column\n",
    "    tmp_df['Month'] = month\n",
    "    \n",
    "    # We also need to give it an index\n",
    "    tmp_df.reset_index(inplace=True)\n",
    "    \n",
    "    # return the DataFrame\n",
    "    return tmp_df"
   ]
  },
  {
   "cell_type": "code",
   "execution_count": null,
   "metadata": {},
   "outputs": [],
   "source": []
  },
  {
   "cell_type": "markdown",
   "metadata": {},
   "source": [
    "Let's test our function with a single month:"
   ]
  },
  {
   "cell_type": "code",
   "execution_count": 24,
   "metadata": {},
   "outputs": [
    {
     "data": {
      "text/html": [
       "<div>\n",
       "<style scoped>\n",
       "    .dataframe tbody tr th:only-of-type {\n",
       "        vertical-align: middle;\n",
       "    }\n",
       "\n",
       "    .dataframe tbody tr th {\n",
       "        vertical-align: top;\n",
       "    }\n",
       "\n",
       "    .dataframe thead th {\n",
       "        text-align: right;\n",
       "    }\n",
       "</style>\n",
       "<table border=\"1\" class=\"dataframe\">\n",
       "  <thead>\n",
       "    <tr style=\"text-align: right;\">\n",
       "      <th></th>\n",
       "      <th>index</th>\n",
       "      <th>complaints_made</th>\n",
       "      <th>complaints_received</th>\n",
       "      <th>Month</th>\n",
       "    </tr>\n",
       "  </thead>\n",
       "  <tbody>\n",
       "    <tr>\n",
       "      <th>0</th>\n",
       "      <td>Stanley</td>\n",
       "      <td>0</td>\n",
       "      <td>0</td>\n",
       "      <td>March</td>\n",
       "    </tr>\n",
       "    <tr>\n",
       "      <th>1</th>\n",
       "      <td>Toby</td>\n",
       "      <td>0</td>\n",
       "      <td>1</td>\n",
       "      <td>March</td>\n",
       "    </tr>\n",
       "    <tr>\n",
       "      <th>2</th>\n",
       "      <td>Jim</td>\n",
       "      <td>0</td>\n",
       "      <td>5</td>\n",
       "      <td>March</td>\n",
       "    </tr>\n",
       "    <tr>\n",
       "      <th>3</th>\n",
       "      <td>Angela</td>\n",
       "      <td>0</td>\n",
       "      <td>0</td>\n",
       "      <td>March</td>\n",
       "    </tr>\n",
       "    <tr>\n",
       "      <th>4</th>\n",
       "      <td>Phyllis</td>\n",
       "      <td>0</td>\n",
       "      <td>0</td>\n",
       "      <td>March</td>\n",
       "    </tr>\n",
       "  </tbody>\n",
       "</table>\n",
       "</div>"
      ],
      "text/plain": [
       "     index  complaints_made  complaints_received  Month\n",
       "0  Stanley                0                    0  March\n",
       "1     Toby                0                    1  March\n",
       "2      Jim                0                    5  March\n",
       "3   Angela                0                    0  March\n",
       "4  Phyllis                0                    0  March"
      ]
     },
     "execution_count": 24,
     "metadata": {},
     "output_type": "execute_result"
    }
   ],
   "source": [
    "summarize_hr_data(df, 'March', all_employees).head()"
   ]
  },
  {
   "cell_type": "markdown",
   "metadata": {},
   "source": [
    "Great!  Things appear to be working for the most part.  We'll need to rename 'index' to 'Employee' when we assemble the whole thing.  Next we'll use a list comprehension from the previous lesson to put everything together:"
   ]
  },
  {
   "cell_type": "code",
   "execution_count": 25,
   "metadata": {},
   "outputs": [],
   "source": [
    "# Concat the DataFrames\n",
    "hr_summary_df = pd.concat([summarize_hr_data(df, month, employees) for month in df['Month'].unique()], \n",
    "                          ignore_index=True)"
   ]
  },
  {
   "cell_type": "code",
   "execution_count": 26,
   "metadata": {},
   "outputs": [
    {
     "data": {
      "text/html": [
       "<div>\n",
       "<style scoped>\n",
       "    .dataframe tbody tr th:only-of-type {\n",
       "        vertical-align: middle;\n",
       "    }\n",
       "\n",
       "    .dataframe tbody tr th {\n",
       "        vertical-align: top;\n",
       "    }\n",
       "\n",
       "    .dataframe thead th {\n",
       "        text-align: right;\n",
       "    }\n",
       "</style>\n",
       "<table border=\"1\" class=\"dataframe\">\n",
       "  <thead>\n",
       "    <tr style=\"text-align: right;\">\n",
       "      <th></th>\n",
       "      <th>index</th>\n",
       "      <th>complaints_made</th>\n",
       "      <th>complaints_received</th>\n",
       "      <th>Month</th>\n",
       "    </tr>\n",
       "  </thead>\n",
       "  <tbody>\n",
       "    <tr>\n",
       "      <th>0</th>\n",
       "      <td>Toby</td>\n",
       "      <td>0</td>\n",
       "      <td>1</td>\n",
       "      <td>March</td>\n",
       "    </tr>\n",
       "    <tr>\n",
       "      <th>1</th>\n",
       "      <td>Jim</td>\n",
       "      <td>0</td>\n",
       "      <td>5</td>\n",
       "      <td>March</td>\n",
       "    </tr>\n",
       "    <tr>\n",
       "      <th>2</th>\n",
       "      <td>Michael</td>\n",
       "      <td>1</td>\n",
       "      <td>1</td>\n",
       "      <td>March</td>\n",
       "    </tr>\n",
       "    <tr>\n",
       "      <th>3</th>\n",
       "      <td>Pam</td>\n",
       "      <td>0</td>\n",
       "      <td>0</td>\n",
       "      <td>March</td>\n",
       "    </tr>\n",
       "    <tr>\n",
       "      <th>4</th>\n",
       "      <td>Dwight</td>\n",
       "      <td>4</td>\n",
       "      <td>0</td>\n",
       "      <td>March</td>\n",
       "    </tr>\n",
       "  </tbody>\n",
       "</table>\n",
       "</div>"
      ],
      "text/plain": [
       "     index  complaints_made  complaints_received  Month\n",
       "0     Toby                0                    1  March\n",
       "1      Jim                0                    5  March\n",
       "2  Michael                1                    1  March\n",
       "3      Pam                0                    0  March\n",
       "4   Dwight                4                    0  March"
      ]
     },
     "execution_count": 26,
     "metadata": {},
     "output_type": "execute_result"
    }
   ],
   "source": [
    "hr_summary_df.head()"
   ]
  },
  {
   "cell_type": "markdown",
   "metadata": {},
   "source": [
    "We know we need to rearrange the columns and rename 'index', but what if an employee had no activity that month?  Should they be listed at all?  Let's drop them.\n",
    "\n",
    "* We'll build a condition that says show me all rows where either the employee had at least one complaint made or received:"
   ]
  },
  {
   "cell_type": "code",
   "execution_count": null,
   "metadata": {},
   "outputs": [],
   "source": [
    "hr_summary_df = hr_summary_df.loc[(hr_summary_df['complaints_made'] > 0) | (hr_summary_df['complaints_received'] > 0)]"
   ]
  },
  {
   "cell_type": "code",
   "execution_count": null,
   "metadata": {},
   "outputs": [],
   "source": [
    "hr_summary_df"
   ]
  },
  {
   "cell_type": "code",
   "execution_count": null,
   "metadata": {},
   "outputs": [],
   "source": [
    "# Let's rename and reorder our columns:\n",
    "hr_summary_df.columns = ['Employee', 'Complaints Made', 'Complaints Received', 'Month']"
   ]
  },
  {
   "cell_type": "code",
   "execution_count": null,
   "metadata": {},
   "outputs": [],
   "source": [
    "hr_summary_df = hr_summary_df[['Month', 'Employee', 'Complaints Made', 'Complaints Received']]"
   ]
  },
  {
   "cell_type": "code",
   "execution_count": null,
   "metadata": {},
   "outputs": [],
   "source": [
    "hr_summary_df"
   ]
  },
  {
   "cell_type": "markdown",
   "metadata": {},
   "source": [
    "We have our summary, but we need to write the original data to another sheet with one condition: We only want to keep the data where an employee had more than three complaints againts them in the same month.  We can do that with df.loc:"
   ]
  },
  {
   "cell_type": "code",
   "execution_count": null,
   "metadata": {},
   "outputs": [],
   "source": [
    "df.loc[(df['Employee'] == 'Jim') & (df['Month'] == 'March')]"
   ]
  },
  {
   "cell_type": "markdown",
   "metadata": {},
   "source": [
    "### Conditionally adding Data to a DataFrame\n",
    "We're going to use a similar function to the one we used earlier to do the following:\n",
    "* Iterate through all employees and months\n",
    "* Using a Python [IF Statement](https://docs.python.org/3/tutorial/controlflow.html#if-statements), we'll check if an employee had three or more incidents in the same month and that data to a list of DataFrames if they did.\n",
    "* Then we'll concatenate those DataFrames."
   ]
  },
  {
   "cell_type": "code",
   "execution_count": null,
   "metadata": {},
   "outputs": [],
   "source": [
    "def get_complaint_details(df, month, employees):\n",
    "    '''Gets the complaint details if the employee had more than three complaints in a month'''\n",
    "    # Create an empty list to hold our DataFrames\n",
    "    frames = []\n",
    "    # Loop through our employee list with our conditions\n",
    "    for employee in employees:\n",
    "        complaints_received = df.loc[(df['Employee'] == employee) & (df['Month'] == month)]\n",
    "        # IF there were three or more complaints:\n",
    "        if len(complaints_received) >= 3:\n",
    "            frames.append(pd.DataFrame(complaints_received))\n",
    "    df = pd.concat(frames, ignore_index=True)\n",
    "    \n",
    "    return df"
   ]
  },
  {
   "cell_type": "markdown",
   "metadata": {},
   "source": [
    "Now we will use our list comprehension to iterate through our months again and assemble the data into a final DataFrame:"
   ]
  },
  {
   "cell_type": "code",
   "execution_count": null,
   "metadata": {},
   "outputs": [],
   "source": [
    "hr_detail_df = pd.concat([get_complaint_details(df, month, all_employees) for month in df['Month'].unique()], \n",
    "                       ignore_index=False)"
   ]
  },
  {
   "cell_type": "code",
   "execution_count": null,
   "metadata": {},
   "outputs": [],
   "source": [
    "hr_detail_df.head()"
   ]
  },
  {
   "cell_type": "code",
   "execution_count": null,
   "metadata": {},
   "outputs": [],
   "source": [
    "hr_summary_df.head()"
   ]
  },
  {
   "cell_type": "markdown",
   "metadata": {},
   "source": [
    "### Exercise: Writing more data to Excel\n",
    "* Ok, one last 'writing to Excel' challenge before the final lesson.\n",
    "* Hopefully you've been taking notes or have the previous lessons open in a different tab.\n",
    "* You're going to write both tables to Excel on separate sheets: hr_summary_df and hr_detail_df\n",
    "\n",
    "To save time, the Hex color codes are as follows:\n",
    "```\n",
    "Bad\n",
    "- Background: #FFC7CE\n",
    "- Font: #9C0006\n",
    "```"
   ]
  },
  {
   "cell_type": "markdown",
   "metadata": {},
   "source": [
    "#### The Output File\n",
    "For the exercise, complete the code below to write the data to Excel:\n",
    "* The output file name is `hr_summary.xlsx`\n",
    "* I'm introducing a new argument to our `writer` definition called `datetime_format`.  You can read more about it on the [xlsxwriter page](https://xlsxwriter.readthedocs.io/example_pandas_datetime.html#ex-pandas-datetime)\n",
    "* In essence, it tells Excel how we want our dates and times to look."
   ]
  },
  {
   "cell_type": "code",
   "execution_count": null,
   "metadata": {},
   "outputs": [],
   "source": [
    "output_file = os.path.join('..', 'data', '_________.xlsx')\n",
    "writer = pd.ExcelWriter(output_file, engine='xlsxwriter', datetime_format='mm/dd/yy')\n",
    "workbook = writer.book"
   ]
  },
  {
   "cell_type": "markdown",
   "metadata": {},
   "source": [
    "#### Formats"
   ]
  },
  {
   "cell_type": "code",
   "execution_count": null,
   "metadata": {},
   "outputs": [],
   "source": [
    "# Define the format for our header:\n",
    "header_format = workbook.add_format({\n",
    "    'bold': True, #Bold Font: This value must be either True or False\n",
    "    'align': 'center', #Center Alignment\n",
    "    'valign': 'top', #Top Alignment\n",
    "    'fg_color': '#4472C1', #Cell Color\n",
    "    'font_color': 'white', #Font Color\n",
    "    'font_size': 12, #Font Size\n",
    "})\n",
    "\n",
    "# Define the format for our numbers:\n",
    "number_format = workbook.add_format({'num_format': '#,##0'})\n",
    "\n",
    "# Define the bad color format\n",
    "bad_color = workbook.add_format(_____)"
   ]
  },
  {
   "cell_type": "markdown",
   "metadata": {},
   "source": [
    "#### HR Summary:\n",
    "* hr_summary_df should the first sheet\n",
    "* The sheet name should be 'HR Monthly Summary'\n",
    "* The column order for it should be Month, Employee, Complaints Made, Complaints Received\n",
    "* Complaints Made and Received should have a 'Bad' highlight for anything over 2"
   ]
  },
  {
   "cell_type": "code",
   "execution_count": null,
   "metadata": {},
   "outputs": [],
   "source": [
    "# Check the column order:\n",
    "_____"
   ]
  },
  {
   "cell_type": "code",
   "execution_count": null,
   "metadata": {},
   "outputs": [],
   "source": [
    "# Reorder the columns if necessary:"
   ]
  },
  {
   "cell_type": "code",
   "execution_count": null,
   "metadata": {},
   "outputs": [],
   "source": [
    "# Define the customer summary sheet and write the data to Excel\n",
    "sheet = ______\n",
    "hr_summary_df.to_excel(______, ______=_____, index=False)"
   ]
  },
  {
   "cell_type": "code",
   "execution_count": null,
   "metadata": {},
   "outputs": [],
   "source": [
    "# Define the worksheet\n",
    "worksheet = writer.sheets[sheet]"
   ]
  },
  {
   "cell_type": "code",
   "execution_count": null,
   "metadata": {},
   "outputs": [],
   "source": [
    "# Write the headers to the worksheet\n",
    "for col_num, value in enumerate(hr_summary_df._____._____):\n",
    "    worksheet.write(0, col_num, value, header_format)"
   ]
  },
  {
   "cell_type": "code",
   "execution_count": null,
   "metadata": {},
   "outputs": [],
   "source": [
    "# Set the numerical columns\n",
    "worksheet.set_column('_:_', 14, None)\n",
    "worksheet.set_column('_:_', 14, number_format)"
   ]
  },
  {
   "cell_type": "code",
   "execution_count": null,
   "metadata": {},
   "outputs": [],
   "source": [
    "# Define rows and columns\n",
    "first_row = 1\n",
    "last_row = _____\n",
    "complaints_made_col = 2\n",
    "complaints_received_col = 3\n",
    "\n",
    "# Set the color conditions\n",
    "complaints_over_two = {\n",
    "    'type': 'cell', \n",
    "    'criteria': '>', \n",
    "    'value': 2,\n",
    "    'format': bad_color,\n",
    "}"
   ]
  },
  {
   "cell_type": "code",
   "execution_count": null,
   "metadata": {},
   "outputs": [],
   "source": [
    "# Apply the color formats\n",
    "worksheet.conditional_format(first_row,\n",
    "                            complaints_made_col,\n",
    "                            last_row,\n",
    "                            complaints_received_col,\n",
    "                            complaints_over_two)"
   ]
  },
  {
   "cell_type": "markdown",
   "metadata": {},
   "source": [
    "#### HR Details\n",
    "* hr_detail_df should be the last sheet\n",
    "* THe sheet name should be 'HR Monthly Detail'\n",
    "* The column order is Date, Employee, Reporter, Complaint"
   ]
  },
  {
   "cell_type": "code",
   "execution_count": null,
   "metadata": {},
   "outputs": [],
   "source": [
    "# Check the column order\n",
    "______"
   ]
  },
  {
   "cell_type": "code",
   "execution_count": null,
   "metadata": {},
   "outputs": [],
   "source": [
    "# Reorder the columns if necessary:\n",
    "_____"
   ]
  },
  {
   "cell_type": "code",
   "execution_count": null,
   "metadata": {},
   "outputs": [],
   "source": [
    "# Define the sheet and write the data to Excel\n",
    "_____ = 'HR Monthly Detail'\n",
    "_____.to_excel(writer, sheet_name=sheet, index=False)"
   ]
  },
  {
   "cell_type": "code",
   "execution_count": null,
   "metadata": {},
   "outputs": [],
   "source": [
    "# Define the worksheet\n",
    "worksheet = writer.sheets[sheet]"
   ]
  },
  {
   "cell_type": "code",
   "execution_count": null,
   "metadata": {},
   "outputs": [],
   "source": [
    "# Write the headers to the worksheet\n",
    "for col_num, value in enumerate(hr_detail_df._____._____):\n",
    "    worksheet.write(0, col_num, value, header_format)"
   ]
  },
  {
   "cell_type": "code",
   "execution_count": null,
   "metadata": {},
   "outputs": [],
   "source": [
    "# Set the column width\n",
    "# Do not change the date column\n",
    "worksheet.set_column('_:_', 14, None)"
   ]
  },
  {
   "cell_type": "markdown",
   "metadata": {},
   "source": [
    "#### Save the File:"
   ]
  },
  {
   "cell_type": "code",
   "execution_count": null,
   "metadata": {},
   "outputs": [],
   "source": [
    "writer.save()"
   ]
  },
  {
   "cell_type": "code",
   "execution_count": null,
   "metadata": {},
   "outputs": [],
   "source": []
  }
 ],
 "metadata": {
  "kernelspec": {
   "display_name": "Python 3",
   "language": "python",
   "name": "python3"
  },
  "language_info": {
   "codemirror_mode": {
    "name": "ipython",
    "version": 3
   },
   "file_extension": ".py",
   "mimetype": "text/x-python",
   "name": "python",
   "nbconvert_exporter": "python",
   "pygments_lexer": "ipython3",
   "version": "3.7.3"
  }
 },
 "nbformat": 4,
 "nbformat_minor": 2
}
