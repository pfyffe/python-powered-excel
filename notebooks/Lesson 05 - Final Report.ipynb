{
 "cells": [
  {
   "cell_type": "markdown",
   "metadata": {},
   "source": [
    "## Lesson 05 - The Final Report\n",
    "\n",
    "#### Overview: \n",
    "\n",
    "In this lesson we're going to put together a simple summary report with a roll-up of the data we've looked at so far and a basic graph to show you how to interact with Excel's graphs.\n",
    "\n",
    "#### Handy References:\n",
    "* [Official Python Documentation](https://docs.python.org/3/)\n",
    "* [Jupyter Notebook Documentation](https://jupyter-notebook.readthedocs.io/en/stable/notebook.html)\n",
    "* [Pandas](https://pandas.pydata.org/)\n",
    "* [XlsxWriter](https://xlsxwriter.readthedocs.io/)"
   ]
  },
  {
   "cell_type": "markdown",
   "metadata": {},
   "source": [
    "### The Data\n",
    "\n",
    "Rather than to through the process of reading and formatting all the previous files we've looked at, I've put them into a single file called 'combined_report.xlsx' with four sheets: Sales, Billing, Supply, and HR.  We're going to read all four sheets into our notebook, do some formatting and clean-up, then combine them into a single DataFrame."
   ]
  },
  {
   "cell_type": "code",
   "execution_count": 1,
   "metadata": {},
   "outputs": [],
   "source": [
    "# File Imports\n",
    "import pandas as pd\n",
    "import xlsxwriter\n",
    "import os"
   ]
  },
  {
   "cell_type": "code",
   "execution_count": 2,
   "metadata": {},
   "outputs": [],
   "source": [
    "# Define the path to the file\n",
    "combined_report = os.path.join('..', 'data', 'combined_report.xlsx')"
   ]
  },
  {
   "cell_type": "code",
   "execution_count": 3,
   "metadata": {},
   "outputs": [],
   "source": [
    "# Read the file into our notebook\n",
    "frames = pd.read_excel(combined_report, sheet_name=None)"
   ]
  },
  {
   "cell_type": "code",
   "execution_count": 4,
   "metadata": {},
   "outputs": [],
   "source": [
    "# Summarize the Sales Data\n",
    "sales_summary = pd.DataFrame(frames['Sales']).groupby(['Month'], as_index=False).agg({\n",
    "    'Amt': [sum],\n",
    "    'Commission': [sum]\n",
    "})"
   ]
  },
  {
   "cell_type": "code",
   "execution_count": 5,
   "metadata": {},
   "outputs": [],
   "source": [
    "# Rename the columns\n",
    "sales_summary.columns = ['Month', 'Sales Amount', 'Sales Commission']"
   ]
  },
  {
   "cell_type": "markdown",
   "metadata": {},
   "source": [
    "#### Categorical Data\n",
    "* To make it easier to sort our months without changing them to date-times and back again, we're going to use [pd.Categorical](https://pandas.pydata.org/pandas-docs/stable/user_guide/categorical.html) to assign the 'Month' column as a Categorical data type and manually define how it should be sorted.\n",
    "* Then we'll use [sort_values](https://pandas.pydata.org/pandas-docs/stable/reference/api/pandas.DataFrame.sort_values.html) to sort our table in the order specified."
   ]
  },
  {
   "cell_type": "code",
   "execution_count": 6,
   "metadata": {},
   "outputs": [],
   "source": [
    "# Define the category\n",
    "sales_summary['Month'] = pd.Categorical(sales_summary['Month'], ['March', 'April', 'May'])"
   ]
  },
  {
   "cell_type": "code",
   "execution_count": 7,
   "metadata": {},
   "outputs": [],
   "source": [
    "# Sort the values\n",
    "sales_summary.sort_values(by=['Month'], inplace=True)"
   ]
  },
  {
   "cell_type": "code",
   "execution_count": 8,
   "metadata": {},
   "outputs": [
    {
     "data": {
      "text/html": [
       "<div>\n",
       "<style scoped>\n",
       "    .dataframe tbody tr th:only-of-type {\n",
       "        vertical-align: middle;\n",
       "    }\n",
       "\n",
       "    .dataframe tbody tr th {\n",
       "        vertical-align: top;\n",
       "    }\n",
       "\n",
       "    .dataframe thead th {\n",
       "        text-align: right;\n",
       "    }\n",
       "</style>\n",
       "<table border=\"1\" class=\"dataframe\">\n",
       "  <thead>\n",
       "    <tr style=\"text-align: right;\">\n",
       "      <th></th>\n",
       "      <th>Month</th>\n",
       "      <th>Sales Amount</th>\n",
       "      <th>Sales Commission</th>\n",
       "    </tr>\n",
       "  </thead>\n",
       "  <tbody>\n",
       "    <tr>\n",
       "      <th>1</th>\n",
       "      <td>March</td>\n",
       "      <td>125625</td>\n",
       "      <td>18843.75</td>\n",
       "    </tr>\n",
       "    <tr>\n",
       "      <th>0</th>\n",
       "      <td>April</td>\n",
       "      <td>92575</td>\n",
       "      <td>13886.25</td>\n",
       "    </tr>\n",
       "    <tr>\n",
       "      <th>2</th>\n",
       "      <td>May</td>\n",
       "      <td>73250</td>\n",
       "      <td>10987.50</td>\n",
       "    </tr>\n",
       "  </tbody>\n",
       "</table>\n",
       "</div>"
      ],
      "text/plain": [
       "   Month  Sales Amount  Sales Commission\n",
       "1  March        125625          18843.75\n",
       "0  April         92575          13886.25\n",
       "2    May         73250          10987.50"
      ]
     },
     "execution_count": 8,
     "metadata": {},
     "output_type": "execute_result"
    }
   ],
   "source": [
    "# Preview our data\n",
    "sales_summary.head()"
   ]
  },
  {
   "cell_type": "markdown",
   "metadata": {},
   "source": [
    "Now we'll use that same method to build our billing, supply, and HR tables: "
   ]
  },
  {
   "cell_type": "code",
   "execution_count": 9,
   "metadata": {},
   "outputs": [],
   "source": [
    "billing_summary = pd.DataFrame(frames['Billing']).groupby(['Month'], as_index=False).agg({\n",
    "    'Total Billed': [sum],\n",
    "    'Total Paid': [sum],\n",
    "})"
   ]
  },
  {
   "cell_type": "code",
   "execution_count": 10,
   "metadata": {},
   "outputs": [],
   "source": [
    "billing_summary.columns = ['Month', 'Amount Billed', 'Amount Paid']"
   ]
  },
  {
   "cell_type": "code",
   "execution_count": 11,
   "metadata": {},
   "outputs": [],
   "source": [
    "billing_summary['Month'] = pd.Categorical(billing_summary['Month'], ['March', 'April', 'May'])"
   ]
  },
  {
   "cell_type": "code",
   "execution_count": 12,
   "metadata": {},
   "outputs": [],
   "source": [
    "billing_summary.sort_values(by=['Month'], inplace=True)"
   ]
  },
  {
   "cell_type": "code",
   "execution_count": 13,
   "metadata": {},
   "outputs": [],
   "source": [
    "billing_summary['Outstanding Balance'] = billing_summary['Amount Billed'] - billing_summary['Amount Paid']"
   ]
  },
  {
   "cell_type": "code",
   "execution_count": 14,
   "metadata": {},
   "outputs": [
    {
     "data": {
      "text/html": [
       "<div>\n",
       "<style scoped>\n",
       "    .dataframe tbody tr th:only-of-type {\n",
       "        vertical-align: middle;\n",
       "    }\n",
       "\n",
       "    .dataframe tbody tr th {\n",
       "        vertical-align: top;\n",
       "    }\n",
       "\n",
       "    .dataframe thead th {\n",
       "        text-align: right;\n",
       "    }\n",
       "</style>\n",
       "<table border=\"1\" class=\"dataframe\">\n",
       "  <thead>\n",
       "    <tr style=\"text-align: right;\">\n",
       "      <th></th>\n",
       "      <th>Month</th>\n",
       "      <th>Amount Billed</th>\n",
       "      <th>Amount Paid</th>\n",
       "      <th>Outstanding Balance</th>\n",
       "    </tr>\n",
       "  </thead>\n",
       "  <tbody>\n",
       "    <tr>\n",
       "      <th>1</th>\n",
       "      <td>March</td>\n",
       "      <td>82912</td>\n",
       "      <td>69587</td>\n",
       "      <td>13325</td>\n",
       "    </tr>\n",
       "    <tr>\n",
       "      <th>0</th>\n",
       "      <td>April</td>\n",
       "      <td>61100</td>\n",
       "      <td>59800</td>\n",
       "      <td>1300</td>\n",
       "    </tr>\n",
       "    <tr>\n",
       "      <th>2</th>\n",
       "      <td>May</td>\n",
       "      <td>48345</td>\n",
       "      <td>45980</td>\n",
       "      <td>2365</td>\n",
       "    </tr>\n",
       "  </tbody>\n",
       "</table>\n",
       "</div>"
      ],
      "text/plain": [
       "   Month  Amount Billed  Amount Paid  Outstanding Balance\n",
       "1  March          82912        69587                13325\n",
       "0  April          61100        59800                 1300\n",
       "2    May          48345        45980                 2365"
      ]
     },
     "execution_count": 14,
     "metadata": {},
     "output_type": "execute_result"
    }
   ],
   "source": [
    "billing_summary.head()"
   ]
  },
  {
   "cell_type": "code",
   "execution_count": 15,
   "metadata": {},
   "outputs": [],
   "source": [
    "supply_summary = pd.DataFrame(frames['Supply']).groupby(['Month'], as_index=False).agg({\n",
    "    'Incoming': [sum],\n",
    "    'Outgoing': [sum],\n",
    "    'On-Hand': [sum],\n",
    "})"
   ]
  },
  {
   "cell_type": "code",
   "execution_count": 16,
   "metadata": {},
   "outputs": [],
   "source": [
    "supply_summary.columns = ['Month', 'Supply - Incoming', 'Supply - Outgoing', 'Supply - On-Hand']"
   ]
  },
  {
   "cell_type": "code",
   "execution_count": 17,
   "metadata": {},
   "outputs": [],
   "source": [
    "supply_summary['Month'] = pd.Categorical(supply_summary['Month'], ['March', 'April', 'May'])"
   ]
  },
  {
   "cell_type": "code",
   "execution_count": 18,
   "metadata": {},
   "outputs": [],
   "source": [
    "supply_summary.sort_values(by=['Month'], inplace=True)"
   ]
  },
  {
   "cell_type": "code",
   "execution_count": 19,
   "metadata": {},
   "outputs": [
    {
     "data": {
      "text/html": [
       "<div>\n",
       "<style scoped>\n",
       "    .dataframe tbody tr th:only-of-type {\n",
       "        vertical-align: middle;\n",
       "    }\n",
       "\n",
       "    .dataframe tbody tr th {\n",
       "        vertical-align: top;\n",
       "    }\n",
       "\n",
       "    .dataframe thead th {\n",
       "        text-align: right;\n",
       "    }\n",
       "</style>\n",
       "<table border=\"1\" class=\"dataframe\">\n",
       "  <thead>\n",
       "    <tr style=\"text-align: right;\">\n",
       "      <th></th>\n",
       "      <th>Month</th>\n",
       "      <th>Supply - Incoming</th>\n",
       "      <th>Supply - Outgoing</th>\n",
       "      <th>Supply - On-Hand</th>\n",
       "    </tr>\n",
       "  </thead>\n",
       "  <tbody>\n",
       "    <tr>\n",
       "      <th>1</th>\n",
       "      <td>March</td>\n",
       "      <td>1400</td>\n",
       "      <td>1225</td>\n",
       "      <td>150</td>\n",
       "    </tr>\n",
       "    <tr>\n",
       "      <th>0</th>\n",
       "      <td>April</td>\n",
       "      <td>1200</td>\n",
       "      <td>1150</td>\n",
       "      <td>325</td>\n",
       "    </tr>\n",
       "    <tr>\n",
       "      <th>2</th>\n",
       "      <td>May</td>\n",
       "      <td>1075</td>\n",
       "      <td>1225</td>\n",
       "      <td>375</td>\n",
       "    </tr>\n",
       "  </tbody>\n",
       "</table>\n",
       "</div>"
      ],
      "text/plain": [
       "   Month  Supply - Incoming  Supply - Outgoing  Supply - On-Hand\n",
       "1  March               1400               1225               150\n",
       "0  April               1200               1150               325\n",
       "2    May               1075               1225               375"
      ]
     },
     "execution_count": 19,
     "metadata": {},
     "output_type": "execute_result"
    }
   ],
   "source": [
    "supply_summary.head()"
   ]
  },
  {
   "cell_type": "code",
   "execution_count": 20,
   "metadata": {},
   "outputs": [],
   "source": [
    "hr_summary = pd.DataFrame(frames['HR']).groupby(['Month'], as_index=False).agg({\n",
    "    'Complaints Received': [sum],\n",
    "})"
   ]
  },
  {
   "cell_type": "code",
   "execution_count": 21,
   "metadata": {},
   "outputs": [],
   "source": [
    "hr_summary.columns = ['Month', 'HR Incidents']"
   ]
  },
  {
   "cell_type": "code",
   "execution_count": 22,
   "metadata": {},
   "outputs": [],
   "source": [
    "hr_summary['Month'] = pd.Categorical(hr_summary['Month'], ['March', 'April', 'May'])"
   ]
  },
  {
   "cell_type": "code",
   "execution_count": 23,
   "metadata": {},
   "outputs": [],
   "source": [
    "hr_summary.sort_values(by=['Month'], inplace=True)"
   ]
  },
  {
   "cell_type": "code",
   "execution_count": 24,
   "metadata": {},
   "outputs": [
    {
     "data": {
      "text/html": [
       "<div>\n",
       "<style scoped>\n",
       "    .dataframe tbody tr th:only-of-type {\n",
       "        vertical-align: middle;\n",
       "    }\n",
       "\n",
       "    .dataframe tbody tr th {\n",
       "        vertical-align: top;\n",
       "    }\n",
       "\n",
       "    .dataframe thead th {\n",
       "        text-align: right;\n",
       "    }\n",
       "</style>\n",
       "<table border=\"1\" class=\"dataframe\">\n",
       "  <thead>\n",
       "    <tr style=\"text-align: right;\">\n",
       "      <th></th>\n",
       "      <th>Month</th>\n",
       "      <th>HR Incidents</th>\n",
       "    </tr>\n",
       "  </thead>\n",
       "  <tbody>\n",
       "    <tr>\n",
       "      <th>1</th>\n",
       "      <td>March</td>\n",
       "      <td>7</td>\n",
       "    </tr>\n",
       "    <tr>\n",
       "      <th>0</th>\n",
       "      <td>April</td>\n",
       "      <td>8</td>\n",
       "    </tr>\n",
       "    <tr>\n",
       "      <th>2</th>\n",
       "      <td>May</td>\n",
       "      <td>11</td>\n",
       "    </tr>\n",
       "  </tbody>\n",
       "</table>\n",
       "</div>"
      ],
      "text/plain": [
       "   Month  HR Incidents\n",
       "1  March             7\n",
       "0  April             8\n",
       "2    May            11"
      ]
     },
     "execution_count": 24,
     "metadata": {},
     "output_type": "execute_result"
    }
   ],
   "source": [
    "hr_summary.head()"
   ]
  },
  {
   "cell_type": "markdown",
   "metadata": {},
   "source": [
    "#### Horizontal Concatenation\n",
    "* We've used `pd.concat()` to combine multiple DataFrames in previous lessons.  \n",
    "* We're going to use that same method here, only with the added argument of `axis=1` to specify that we want to combine them horizontally. \n",
    "* We will then `transpose()` the combined DataFrame so we can drop the duplicated 'Month' column.\n",
    "* Lastly, we'll `transpose()` the DataFrame a final time to bring it back to its original state."
   ]
  },
  {
   "cell_type": "code",
   "execution_count": 25,
   "metadata": {},
   "outputs": [],
   "source": [
    "summary_df = pd.concat([sales_summary, billing_summary, supply_summary, hr_summary], axis=1).\\\n",
    "                T.drop_duplicates().T"
   ]
  },
  {
   "cell_type": "code",
   "execution_count": 26,
   "metadata": {},
   "outputs": [
    {
     "data": {
      "text/html": [
       "<div>\n",
       "<style scoped>\n",
       "    .dataframe tbody tr th:only-of-type {\n",
       "        vertical-align: middle;\n",
       "    }\n",
       "\n",
       "    .dataframe tbody tr th {\n",
       "        vertical-align: top;\n",
       "    }\n",
       "\n",
       "    .dataframe thead th {\n",
       "        text-align: right;\n",
       "    }\n",
       "</style>\n",
       "<table border=\"1\" class=\"dataframe\">\n",
       "  <thead>\n",
       "    <tr style=\"text-align: right;\">\n",
       "      <th></th>\n",
       "      <th>Month</th>\n",
       "      <th>Sales Amount</th>\n",
       "      <th>Sales Commission</th>\n",
       "      <th>Amount Billed</th>\n",
       "      <th>Amount Paid</th>\n",
       "      <th>Outstanding Balance</th>\n",
       "      <th>Supply - Incoming</th>\n",
       "      <th>Supply - Outgoing</th>\n",
       "      <th>Supply - On-Hand</th>\n",
       "      <th>HR Incidents</th>\n",
       "    </tr>\n",
       "  </thead>\n",
       "  <tbody>\n",
       "    <tr>\n",
       "      <th>1</th>\n",
       "      <td>March</td>\n",
       "      <td>125625</td>\n",
       "      <td>18843.8</td>\n",
       "      <td>82912</td>\n",
       "      <td>69587</td>\n",
       "      <td>13325</td>\n",
       "      <td>1400</td>\n",
       "      <td>1225</td>\n",
       "      <td>150</td>\n",
       "      <td>7</td>\n",
       "    </tr>\n",
       "    <tr>\n",
       "      <th>0</th>\n",
       "      <td>April</td>\n",
       "      <td>92575</td>\n",
       "      <td>13886.2</td>\n",
       "      <td>61100</td>\n",
       "      <td>59800</td>\n",
       "      <td>1300</td>\n",
       "      <td>1200</td>\n",
       "      <td>1150</td>\n",
       "      <td>325</td>\n",
       "      <td>8</td>\n",
       "    </tr>\n",
       "    <tr>\n",
       "      <th>2</th>\n",
       "      <td>May</td>\n",
       "      <td>73250</td>\n",
       "      <td>10987.5</td>\n",
       "      <td>48345</td>\n",
       "      <td>45980</td>\n",
       "      <td>2365</td>\n",
       "      <td>1075</td>\n",
       "      <td>1225</td>\n",
       "      <td>375</td>\n",
       "      <td>11</td>\n",
       "    </tr>\n",
       "  </tbody>\n",
       "</table>\n",
       "</div>"
      ],
      "text/plain": [
       "   Month Sales Amount Sales Commission Amount Billed Amount Paid  \\\n",
       "1  March       125625          18843.8         82912       69587   \n",
       "0  April        92575          13886.2         61100       59800   \n",
       "2    May        73250          10987.5         48345       45980   \n",
       "\n",
       "  Outstanding Balance Supply - Incoming Supply - Outgoing Supply - On-Hand  \\\n",
       "1               13325              1400              1225              150   \n",
       "0                1300              1200              1150              325   \n",
       "2                2365              1075              1225              375   \n",
       "\n",
       "  HR Incidents  \n",
       "1            7  \n",
       "0            8  \n",
       "2           11  "
      ]
     },
     "execution_count": 26,
     "metadata": {},
     "output_type": "execute_result"
    }
   ],
   "source": [
    "summary_df.head()"
   ]
  },
  {
   "cell_type": "code",
   "execution_count": 27,
   "metadata": {},
   "outputs": [
    {
     "name": "stdout",
     "output_type": "stream",
     "text": [
      "<class 'pandas.core.frame.DataFrame'>\n",
      "Int64Index: 3 entries, 1 to 2\n",
      "Data columns (total 10 columns):\n",
      "Month                  3 non-null object\n",
      "Sales Amount           3 non-null object\n",
      "Sales Commission       3 non-null object\n",
      "Amount Billed          3 non-null object\n",
      "Amount Paid            3 non-null object\n",
      "Outstanding Balance    3 non-null object\n",
      "Supply - Incoming      3 non-null object\n",
      "Supply - Outgoing      3 non-null object\n",
      "Supply - On-Hand       3 non-null object\n",
      "HR Incidents           3 non-null object\n",
      "dtypes: object(10)\n",
      "memory usage: 344.0+ bytes\n"
     ]
    }
   ],
   "source": [
    "summary_df.info()"
   ]
  },
  {
   "cell_type": "markdown",
   "metadata": {},
   "source": [
    "#### Numeric Types\n",
    "* If you look at the output from `.info()` you'll see that our number columns are objects and not numbers.\n",
    "* We're going to use [pd.to_numeric()](https://pandas.pydata.org/pandas-docs/stable/reference/api/pandas.to_numeric.html#pandas.to_numeric) to convert their type so that we can get a \"Total\" row.\n",
    "* We'll do that by passing a list of our columns to `pd.to_numeric()` wwith the `errors='ignore'` argument.  This ensures that non-numeric columns like 'Month' are not effected."
   ]
  },
  {
   "cell_type": "code",
   "execution_count": 28,
   "metadata": {},
   "outputs": [],
   "source": [
    "# Get a list of columns in our DataFrame\n",
    "cols = summary_df.columns"
   ]
  },
  {
   "cell_type": "code",
   "execution_count": 29,
   "metadata": {},
   "outputs": [],
   "source": [
    "# Convert the columns to a Numeric type\n",
    "summary_df[cols] = summary_df[cols].apply(pd.to_numeric, errors='ignore')"
   ]
  },
  {
   "cell_type": "code",
   "execution_count": 30,
   "metadata": {},
   "outputs": [
    {
     "name": "stdout",
     "output_type": "stream",
     "text": [
      "<class 'pandas.core.frame.DataFrame'>\n",
      "Int64Index: 3 entries, 1 to 2\n",
      "Data columns (total 10 columns):\n",
      "Month                  3 non-null object\n",
      "Sales Amount           3 non-null int64\n",
      "Sales Commission       3 non-null float64\n",
      "Amount Billed          3 non-null int64\n",
      "Amount Paid            3 non-null int64\n",
      "Outstanding Balance    3 non-null int64\n",
      "Supply - Incoming      3 non-null int64\n",
      "Supply - Outgoing      3 non-null int64\n",
      "Supply - On-Hand       3 non-null int64\n",
      "HR Incidents           3 non-null int64\n",
      "dtypes: float64(1), int64(8), object(1)\n",
      "memory usage: 344.0+ bytes\n"
     ]
    }
   ],
   "source": [
    "# Verify the type conversion worked\n",
    "summary_df.info()"
   ]
  },
  {
   "cell_type": "markdown",
   "metadata": {},
   "source": [
    "#### Getting a Total Row\n",
    "* We want the bottom row of our DataFrame to be a 'Total Row'.\n",
    "* We will do this by setting the index to the 'Month' Column so we can add a new index entry\n",
    "* Then we'll create a new index entry with `df.loc[row_name]` and assign the row's values to the [sum()](https://pandas.pydata.org/pandas-docs/stable/reference/api/pandas.DataFrame.sum.html) of the previous rows.\n",
    "* Finally, we'll use `reset_index()` to put the 'Month' column back where it should be."
   ]
  },
  {
   "cell_type": "code",
   "execution_count": 31,
   "metadata": {},
   "outputs": [],
   "source": [
    "# Set 'Month' as the index\n",
    "summary_df.set_index('Month', inplace=True)"
   ]
  },
  {
   "cell_type": "code",
   "execution_count": 32,
   "metadata": {},
   "outputs": [
    {
     "data": {
      "text/html": [
       "<div>\n",
       "<style scoped>\n",
       "    .dataframe tbody tr th:only-of-type {\n",
       "        vertical-align: middle;\n",
       "    }\n",
       "\n",
       "    .dataframe tbody tr th {\n",
       "        vertical-align: top;\n",
       "    }\n",
       "\n",
       "    .dataframe thead th {\n",
       "        text-align: right;\n",
       "    }\n",
       "</style>\n",
       "<table border=\"1\" class=\"dataframe\">\n",
       "  <thead>\n",
       "    <tr style=\"text-align: right;\">\n",
       "      <th></th>\n",
       "      <th>Sales Amount</th>\n",
       "      <th>Sales Commission</th>\n",
       "      <th>Amount Billed</th>\n",
       "      <th>Amount Paid</th>\n",
       "      <th>Outstanding Balance</th>\n",
       "      <th>Supply - Incoming</th>\n",
       "      <th>Supply - Outgoing</th>\n",
       "      <th>Supply - On-Hand</th>\n",
       "      <th>HR Incidents</th>\n",
       "    </tr>\n",
       "    <tr>\n",
       "      <th>Month</th>\n",
       "      <th></th>\n",
       "      <th></th>\n",
       "      <th></th>\n",
       "      <th></th>\n",
       "      <th></th>\n",
       "      <th></th>\n",
       "      <th></th>\n",
       "      <th></th>\n",
       "      <th></th>\n",
       "    </tr>\n",
       "  </thead>\n",
       "  <tbody>\n",
       "    <tr>\n",
       "      <th>March</th>\n",
       "      <td>125625</td>\n",
       "      <td>18843.75</td>\n",
       "      <td>82912</td>\n",
       "      <td>69587</td>\n",
       "      <td>13325</td>\n",
       "      <td>1400</td>\n",
       "      <td>1225</td>\n",
       "      <td>150</td>\n",
       "      <td>7</td>\n",
       "    </tr>\n",
       "    <tr>\n",
       "      <th>April</th>\n",
       "      <td>92575</td>\n",
       "      <td>13886.25</td>\n",
       "      <td>61100</td>\n",
       "      <td>59800</td>\n",
       "      <td>1300</td>\n",
       "      <td>1200</td>\n",
       "      <td>1150</td>\n",
       "      <td>325</td>\n",
       "      <td>8</td>\n",
       "    </tr>\n",
       "    <tr>\n",
       "      <th>May</th>\n",
       "      <td>73250</td>\n",
       "      <td>10987.50</td>\n",
       "      <td>48345</td>\n",
       "      <td>45980</td>\n",
       "      <td>2365</td>\n",
       "      <td>1075</td>\n",
       "      <td>1225</td>\n",
       "      <td>375</td>\n",
       "      <td>11</td>\n",
       "    </tr>\n",
       "  </tbody>\n",
       "</table>\n",
       "</div>"
      ],
      "text/plain": [
       "       Sales Amount  Sales Commission  Amount Billed  Amount Paid  \\\n",
       "Month                                                               \n",
       "March        125625          18843.75          82912        69587   \n",
       "April         92575          13886.25          61100        59800   \n",
       "May           73250          10987.50          48345        45980   \n",
       "\n",
       "       Outstanding Balance  Supply - Incoming  Supply - Outgoing  \\\n",
       "Month                                                              \n",
       "March                13325               1400               1225   \n",
       "April                 1300               1200               1150   \n",
       "May                   2365               1075               1225   \n",
       "\n",
       "       Supply - On-Hand  HR Incidents  \n",
       "Month                                  \n",
       "March               150             7  \n",
       "April               325             8  \n",
       "May                 375            11  "
      ]
     },
     "execution_count": 32,
     "metadata": {},
     "output_type": "execute_result"
    }
   ],
   "source": [
    "summary_df.head()"
   ]
  },
  {
   "cell_type": "code",
   "execution_count": 33,
   "metadata": {},
   "outputs": [],
   "source": [
    "# Create a 'Total' row\n",
    "summary_df.loc[\"Total\"] = summary_df.sum()"
   ]
  },
  {
   "cell_type": "code",
   "execution_count": 34,
   "metadata": {},
   "outputs": [],
   "source": [
    "# Reset the index\n",
    "summary_df.reset_index(inplace=True)"
   ]
  },
  {
   "cell_type": "code",
   "execution_count": 35,
   "metadata": {},
   "outputs": [
    {
     "data": {
      "text/html": [
       "<div>\n",
       "<style scoped>\n",
       "    .dataframe tbody tr th:only-of-type {\n",
       "        vertical-align: middle;\n",
       "    }\n",
       "\n",
       "    .dataframe tbody tr th {\n",
       "        vertical-align: top;\n",
       "    }\n",
       "\n",
       "    .dataframe thead th {\n",
       "        text-align: right;\n",
       "    }\n",
       "</style>\n",
       "<table border=\"1\" class=\"dataframe\">\n",
       "  <thead>\n",
       "    <tr style=\"text-align: right;\">\n",
       "      <th></th>\n",
       "      <th>Month</th>\n",
       "      <th>Sales Amount</th>\n",
       "      <th>Sales Commission</th>\n",
       "      <th>Amount Billed</th>\n",
       "      <th>Amount Paid</th>\n",
       "      <th>Outstanding Balance</th>\n",
       "      <th>Supply - Incoming</th>\n",
       "      <th>Supply - Outgoing</th>\n",
       "      <th>Supply - On-Hand</th>\n",
       "      <th>HR Incidents</th>\n",
       "    </tr>\n",
       "  </thead>\n",
       "  <tbody>\n",
       "    <tr>\n",
       "      <th>0</th>\n",
       "      <td>March</td>\n",
       "      <td>125625.0</td>\n",
       "      <td>18843.75</td>\n",
       "      <td>82912.0</td>\n",
       "      <td>69587.0</td>\n",
       "      <td>13325.0</td>\n",
       "      <td>1400.0</td>\n",
       "      <td>1225.0</td>\n",
       "      <td>150.0</td>\n",
       "      <td>7.0</td>\n",
       "    </tr>\n",
       "    <tr>\n",
       "      <th>1</th>\n",
       "      <td>April</td>\n",
       "      <td>92575.0</td>\n",
       "      <td>13886.25</td>\n",
       "      <td>61100.0</td>\n",
       "      <td>59800.0</td>\n",
       "      <td>1300.0</td>\n",
       "      <td>1200.0</td>\n",
       "      <td>1150.0</td>\n",
       "      <td>325.0</td>\n",
       "      <td>8.0</td>\n",
       "    </tr>\n",
       "    <tr>\n",
       "      <th>2</th>\n",
       "      <td>May</td>\n",
       "      <td>73250.0</td>\n",
       "      <td>10987.50</td>\n",
       "      <td>48345.0</td>\n",
       "      <td>45980.0</td>\n",
       "      <td>2365.0</td>\n",
       "      <td>1075.0</td>\n",
       "      <td>1225.0</td>\n",
       "      <td>375.0</td>\n",
       "      <td>11.0</td>\n",
       "    </tr>\n",
       "    <tr>\n",
       "      <th>3</th>\n",
       "      <td>Total</td>\n",
       "      <td>291450.0</td>\n",
       "      <td>43717.50</td>\n",
       "      <td>192357.0</td>\n",
       "      <td>175367.0</td>\n",
       "      <td>16990.0</td>\n",
       "      <td>3675.0</td>\n",
       "      <td>3600.0</td>\n",
       "      <td>850.0</td>\n",
       "      <td>26.0</td>\n",
       "    </tr>\n",
       "  </tbody>\n",
       "</table>\n",
       "</div>"
      ],
      "text/plain": [
       "   Month  Sales Amount  Sales Commission  Amount Billed  Amount Paid  \\\n",
       "0  March      125625.0          18843.75        82912.0      69587.0   \n",
       "1  April       92575.0          13886.25        61100.0      59800.0   \n",
       "2    May       73250.0          10987.50        48345.0      45980.0   \n",
       "3  Total      291450.0          43717.50       192357.0     175367.0   \n",
       "\n",
       "   Outstanding Balance  Supply - Incoming  Supply - Outgoing  \\\n",
       "0              13325.0             1400.0             1225.0   \n",
       "1               1300.0             1200.0             1150.0   \n",
       "2               2365.0             1075.0             1225.0   \n",
       "3              16990.0             3675.0             3600.0   \n",
       "\n",
       "   Supply - On-Hand  HR Incidents  \n",
       "0             150.0           7.0  \n",
       "1             325.0           8.0  \n",
       "2             375.0          11.0  \n",
       "3             850.0          26.0  "
      ]
     },
     "execution_count": 35,
     "metadata": {},
     "output_type": "execute_result"
    }
   ],
   "source": [
    "# Now let's preview our data\n",
    "summary_df.head()"
   ]
  },
  {
   "cell_type": "markdown",
   "metadata": {},
   "source": [
    "### Writing to Excel\n",
    "Most of this should look familiar.  We're going to write our DataFrame to Excel like we've done in the past, with a few minor changes.  What's really new is we're going to add in some custom header text above the DataFrame and add in a simple bar chart.\n",
    "\n",
    "#### Define the Output File:"
   ]
  },
  {
   "cell_type": "code",
   "execution_count": 36,
   "metadata": {},
   "outputs": [],
   "source": [
    "output_file = os.path.join('..', 'data', 'Quarterly Report.xlsx')\n",
    "writer = pd.ExcelWriter(output_file, engine='xlsxwriter')\n",
    "workbook = writer.book"
   ]
  },
  {
   "cell_type": "markdown",
   "metadata": {},
   "source": [
    "#### Define the formats:\n",
    "* We have a couple of new formats: `title_format` and `subheader_format`.  By now you should be familiar with how these are put together. "
   ]
  },
  {
   "cell_type": "code",
   "execution_count": 37,
   "metadata": {},
   "outputs": [],
   "source": [
    "# Define the format for our header:\n",
    "title_format = workbook.add_format({\n",
    "    'bold': True, \n",
    "    'align': 'center', \n",
    "    'valign': 'top',\n",
    "    'fg_color': '#4472C1',\n",
    "    'font_color': 'white',\n",
    "    'font_size': 16,\n",
    "})\n",
    "\n",
    "header_format = workbook.add_format({\n",
    "    'bold': True,\n",
    "    'align': 'center',\n",
    "    'valign': 'top',\n",
    "    'fg_color': '#4472C1',\n",
    "    'font_color': 'white',\n",
    "    'font_size': 12,\n",
    "})\n",
    "\n",
    "# Define the subheader format:\n",
    "subheader_format = workbook.add_format({\n",
    "            'bold': False,\n",
    "            'align': 'center',\n",
    "            'valign': 'top',\n",
    "            'fg_color': '#8EA9DB',\n",
    "            'font_color': 'black',\n",
    "            'text_wrap': 1,\n",
    "            'border': 1})\n",
    "\n",
    "# Define the format for our numbers:\n",
    "number_format = workbook.add_format({'num_format': '#,##0'})\n",
    "accounting_format = workbook.add_format({'num_format': '$#,##0'})"
   ]
  },
  {
   "cell_type": "markdown",
   "metadata": {},
   "source": [
    "#### Define our Worksheet and Write to Excel\n",
    "* Notice we've added `startrow=3` and `header=False` as arguments here.\n",
    "* We're doing this to leave room for the extra text we will add to the top of the worksheet later."
   ]
  },
  {
   "cell_type": "code",
   "execution_count": 38,
   "metadata": {},
   "outputs": [],
   "source": [
    "sheet = 'Summary'\n",
    "summary_df.to_excel(writer, sheet_name=sheet, startrow=3, index=False, header=False)"
   ]
  },
  {
   "cell_type": "code",
   "execution_count": 39,
   "metadata": {},
   "outputs": [],
   "source": [
    "worksheet = writer.sheets[sheet]"
   ]
  },
  {
   "cell_type": "code",
   "execution_count": 40,
   "metadata": {},
   "outputs": [],
   "source": [
    "for col_num, value in enumerate(summary_df.columns.values):\n",
    "    worksheet.write(2, col_num, value, header_format)"
   ]
  },
  {
   "cell_type": "markdown",
   "metadata": {},
   "source": [
    "#### Column Formatting:\n",
    "* In the past we've had to manually figure out which Excel column belonged to which DataFrame Column.\n",
    "* The method I use below gets us the column number for our columns using Python's build-in .index() method on our column list."
   ]
  },
  {
   "cell_type": "code",
   "execution_count": 41,
   "metadata": {},
   "outputs": [],
   "source": [
    "# Get the column number for month\n",
    "month_column = list(summary_df.columns).index('Month')\n",
    "\n",
    "# Get the column numbers for accounting columns\n",
    "accounting_start = list(summary_df.columns).index('Sales Amount')\n",
    "accounting_end = list(summary_df.columns).index('Outstanding Balance')\n",
    "\n",
    "# Get the number column numbers\n",
    "num_start = list(summary_df.columns).index('Supply - Incoming')\n",
    "num_end = list(summary_df.columns).index('HR Incidents')"
   ]
  },
  {
   "cell_type": "markdown",
   "metadata": {},
   "source": [
    "Using those column numbers, we can set our column formatting based on the numbers of the first and last columns we want the formatting applied to: "
   ]
  },
  {
   "cell_type": "code",
   "execution_count": 42,
   "metadata": {},
   "outputs": [
    {
     "data": {
      "text/plain": [
       "0"
      ]
     },
     "execution_count": 42,
     "metadata": {},
     "output_type": "execute_result"
    }
   ],
   "source": [
    "# Set the column formats\n",
    "\n",
    "# Month Column\n",
    "worksheet.set_column(month_column, month_column, 14, None)\n",
    "\n",
    "# Accounting Columns\n",
    "worksheet.set_column(accounting_start, accounting_end, 14, accounting_format)\n",
    "\n",
    "# Number Columns\n",
    "worksheet.set_column(num_start, num_end, 14, number_format)"
   ]
  },
  {
   "cell_type": "markdown",
   "metadata": {},
   "source": [
    "#### Writing Raw Text to Excel:\n",
    "* Most of the time, we're not just writing tables to Excel.  We need text, headers, labels, etc.\n",
    "* You can write text to Excel using [worksheet.write()](https://xlsxwriter.readthedocs.io/worksheet.html?highlight=worksheet.write).\n",
    "* However, for this case we need to write to a merged range of cells.  We do that with [worksheet.merge_range()](https://xlsxwriter.readthedocs.io/worksheet.html?highlight=worksheet.merge_range()).  \n",
    "* `merge_range` works by defining the start row, start column, stop row, and stop column, then the text we want to write, then the format we want applied:"
   ]
  },
  {
   "cell_type": "code",
   "execution_count": 43,
   "metadata": {},
   "outputs": [],
   "source": [
    "# Writing the Headers\n",
    "worksheet.merge_range(0, 0, 0, len(summary_df.columns)-1, 'Dunder Mifflin Scranton', title_format)\n",
    "worksheet.merge_range(1, 0, 1, len(summary_df.columns)-1, 'Quarterly Summary', subheader_format)"
   ]
  },
  {
   "cell_type": "markdown",
   "metadata": {},
   "source": [
    "#### Excel Charts\n",
    "* Xlsxwriter can create any chart that Excel can create.  The charting functionality is extensive and could span multiple classes all on its own.\n",
    "* For this class we'll get a brief introduction to charting by making a simple bar graph.  \n",
    "* I encourage you to take a look at [The Chart Class](https://xlsxwriter.readthedocs.io/chart.html) documentation to get a feel for just how powerful this can be."
   ]
  },
  {
   "cell_type": "markdown",
   "metadata": {},
   "source": [
    "#### Defining the Chart:"
   ]
  },
  {
   "cell_type": "code",
   "execution_count": 44,
   "metadata": {},
   "outputs": [],
   "source": [
    "simple_chart = workbook.add_chart({'type': 'column'})"
   ]
  },
  {
   "cell_type": "markdown",
   "metadata": {},
   "source": [
    "#### Setting the Data Range:\n",
    "* We'll start by defining the columns we want to include in the chart\n",
    "* Then we'll define the column we want to use for charting.  In this case it's the first column, or zero.\n",
    "* Next we will define the rows we want included.  In our case, the table starts on row 3 and I want to stop just before the total row, or row 5."
   ]
  },
  {
   "cell_type": "code",
   "execution_count": 45,
   "metadata": {},
   "outputs": [],
   "source": [
    "chart_columns = ['Sales Amount', 'Amount Billed', 'Amount Paid']\n",
    "category_column = 0\n",
    "first_row = 3\n",
    "last_row = 5"
   ]
  },
  {
   "cell_type": "markdown",
   "metadata": {},
   "source": [
    "#### Adding Data to the Chart\n",
    "* We will use a `For` loop to iterate through our `chart_columns`\n",
    "* For each column:\n",
    "* * Get the column number\n",
    "* * Add the data from that column using `add_series()`\n",
    "\n",
    "* `add_series()` needs:\n",
    "* * Series Name: `name`\n",
    "* * Categories: `categories` - The category labels for our series.  This is a list containing the source sheet, first row, first column, last row, and last column of our categories.  In our case, we are using the category column.\n",
    "* * Values: `values` - The data we want to add to the chart.  This is similiar to `categories`."
   ]
  },
  {
   "cell_type": "code",
   "execution_count": 46,
   "metadata": {},
   "outputs": [],
   "source": [
    "# Remember, for categories and values the order is [sheetname, first_row, first_col, last_row, last_col]\n",
    "for col in chart_columns:\n",
    "    # Get the column number of the data we want to add\n",
    "    col_num = list(summary_df.columns).index(col)\n",
    "    # Add the series\n",
    "    simple_chart.add_series({\n",
    "        'name': col,\n",
    "        'categories': [sheet, first_row, category_column, last_row, category_column],\n",
    "        'values': [sheet, first_row, col_num, last_row, col_num]\n",
    "    })"
   ]
  },
  {
   "cell_type": "code",
   "execution_count": 47,
   "metadata": {},
   "outputs": [],
   "source": [
    "# Set the chart title\n",
    "simple_chart.set_title({'name': 'Simple Bar Chart'})"
   ]
  },
  {
   "cell_type": "markdown",
   "metadata": {},
   "source": [
    "#### Inserting the Chart\n",
    "* You can add the chart to the workbook using `insert_chart` and passing the cell where you want the chart to begin."
   ]
  },
  {
   "cell_type": "code",
   "execution_count": 48,
   "metadata": {},
   "outputs": [],
   "source": [
    "worksheet.insert_chart('A9', simple_chart)"
   ]
  },
  {
   "cell_type": "code",
   "execution_count": 49,
   "metadata": {},
   "outputs": [],
   "source": [
    "# Save the file\n",
    "writer.save()"
   ]
  },
  {
   "cell_type": "markdown",
   "metadata": {},
   "source": [
    "### Exercise - Making a Bar Chart\n",
    "* For this exercise, you'll be reading in the \"Expense Summary\" sheet from \"accounting_summary_master.xlsx\".\n",
    "* Once the file is read into our notebook, do the following:\n",
    "* * Summarize the Expenses by Employee and get their total Amount Paid\n",
    "* * Sort the new DataFrame by Amount Paid in Descending Order\n",
    "* * Rename the columns to \"Employee\" and \"Amount Paid\"\n",
    "* * Write the new DataFrame to Excel with \"Amount Paid\" having an accounting format\n",
    "* * Insert a bar chart in cell C1\n",
    "* * Save the file"
   ]
  },
  {
   "cell_type": "code",
   "execution_count": 50,
   "metadata": {},
   "outputs": [],
   "source": [
    "# Define the path to the file\n",
    "accounting_file = os.path.join(\"..\", 'data', 'accounting_summary_master.xlsx')"
   ]
  },
  {
   "cell_type": "code",
   "execution_count": 53,
   "metadata": {},
   "outputs": [],
   "source": [
    "# Read the 'Expense Summary' sheet into a DataFrame\n",
    "expense_df = pd.read_excel(accounting_file, sheet_name='Expense Summary')"
   ]
  },
  {
   "cell_type": "code",
   "execution_count": 54,
   "metadata": {},
   "outputs": [],
   "source": [
    "# Create a summary DataFrame grouped by 'Employee' with the total 'Amount Paid' for each\n",
    "summary_df = expense_df.groupby(['Employee'], as_index=False).agg({\n",
    "    'Amount Paid': [sum]\n",
    "})"
   ]
  },
  {
   "cell_type": "code",
   "execution_count": 55,
   "metadata": {},
   "outputs": [],
   "source": [
    "# Rename the columns\n",
    "summary_df.columns = ['Employee', 'Amount Paid']"
   ]
  },
  {
   "cell_type": "code",
   "execution_count": 56,
   "metadata": {},
   "outputs": [],
   "source": [
    "# Sort by 'Amount Paid' in descending order\n",
    "summary_df.sort_values(by=['Amount Paid'], ascending=False, inplace=True)"
   ]
  },
  {
   "cell_type": "code",
   "execution_count": 57,
   "metadata": {},
   "outputs": [],
   "source": [
    "# Define the output file and the writer\n",
    "output_file = os.path.join('..', 'data', 'Expense Report.xlsx')\n",
    "writer = pd.ExcelWriter(output_file, engine='xlsxwriter')\n",
    "workbook = writer.book"
   ]
  },
  {
   "cell_type": "code",
   "execution_count": 59,
   "metadata": {},
   "outputs": [],
   "source": [
    "# Define the format for our header:\n",
    "header_format = workbook.add_format({\n",
    "    'bold': True,\n",
    "    'align': 'center',\n",
    "    'valign': 'top',\n",
    "    'fg_color': '#4472C1',\n",
    "    'font_color': 'white',\n",
    "    'font_size': 12,\n",
    "})\n",
    "\n",
    "# Define the format for Amount Paid\n",
    "accounting_format = workbook.add_format({'num_format': '$#,##0'})"
   ]
  },
  {
   "cell_type": "code",
   "execution_count": 60,
   "metadata": {},
   "outputs": [],
   "source": [
    "# Define the sheet\n",
    "sheet = 'Summary'\n",
    "summary_df.to_excel(writer, sheet_name=sheet, index=False)"
   ]
  },
  {
   "cell_type": "code",
   "execution_count": 61,
   "metadata": {},
   "outputs": [],
   "source": [
    "# Define the worksheet\n",
    "worksheet = writer.sheets[sheet]"
   ]
  },
  {
   "cell_type": "code",
   "execution_count": 62,
   "metadata": {},
   "outputs": [],
   "source": [
    "# Write the data to Excel\n",
    "for col_num, value in enumerate(summary_df.columns.values):\n",
    "    worksheet.write(0, col_num, value, header_format)"
   ]
  },
  {
   "cell_type": "code",
   "execution_count": 63,
   "metadata": {},
   "outputs": [
    {
     "data": {
      "text/plain": [
       "0"
      ]
     },
     "execution_count": 63,
     "metadata": {},
     "output_type": "execute_result"
    }
   ],
   "source": [
    "# Apply the accounting format to the 'Amount Paid' column\n",
    "worksheet.set_column('B:B', 14, accounting_format)"
   ]
  },
  {
   "cell_type": "code",
   "execution_count": 65,
   "metadata": {},
   "outputs": [
    {
     "data": {
      "text/html": [
       "<div>\n",
       "<style scoped>\n",
       "    .dataframe tbody tr th:only-of-type {\n",
       "        vertical-align: middle;\n",
       "    }\n",
       "\n",
       "    .dataframe tbody tr th {\n",
       "        vertical-align: top;\n",
       "    }\n",
       "\n",
       "    .dataframe thead th {\n",
       "        text-align: right;\n",
       "    }\n",
       "</style>\n",
       "<table border=\"1\" class=\"dataframe\">\n",
       "  <thead>\n",
       "    <tr style=\"text-align: right;\">\n",
       "      <th></th>\n",
       "      <th>Employee</th>\n",
       "      <th>Amount Paid</th>\n",
       "    </tr>\n",
       "  </thead>\n",
       "  <tbody>\n",
       "    <tr>\n",
       "      <th>5</th>\n",
       "      <td>Michael</td>\n",
       "      <td>1350</td>\n",
       "    </tr>\n",
       "    <tr>\n",
       "      <th>2</th>\n",
       "      <td>Dwight</td>\n",
       "      <td>650</td>\n",
       "    </tr>\n",
       "    <tr>\n",
       "      <th>3</th>\n",
       "      <td>Jim</td>\n",
       "      <td>275</td>\n",
       "    </tr>\n",
       "    <tr>\n",
       "      <th>0</th>\n",
       "      <td>Andy</td>\n",
       "      <td>200</td>\n",
       "    </tr>\n",
       "    <tr>\n",
       "      <th>7</th>\n",
       "      <td>Stanley</td>\n",
       "      <td>175</td>\n",
       "    </tr>\n",
       "  </tbody>\n",
       "</table>\n",
       "</div>"
      ],
      "text/plain": [
       "  Employee  Amount Paid\n",
       "5  Michael         1350\n",
       "2   Dwight          650\n",
       "3      Jim          275\n",
       "0     Andy          200\n",
       "7  Stanley          175"
      ]
     },
     "execution_count": 65,
     "metadata": {},
     "output_type": "execute_result"
    }
   ],
   "source": [
    "summary_df.head()"
   ]
  },
  {
   "cell_type": "code",
   "execution_count": 66,
   "metadata": {},
   "outputs": [],
   "source": [
    "# Define the chart\n",
    "simple_chart = workbook.add_chart({'type': 'column'})"
   ]
  },
  {
   "cell_type": "code",
   "execution_count": 67,
   "metadata": {},
   "outputs": [],
   "source": [
    "# Define some chart variables\n",
    "category_column = 0\n",
    "first_row = 1\n",
    "last_row = 9"
   ]
  },
  {
   "cell_type": "code",
   "execution_count": 68,
   "metadata": {},
   "outputs": [],
   "source": [
    "# Add data to the chart\n",
    "# Remember, for categories and values the order is [sheetname, first_row, first_col, last_row, last_col]\n",
    "\n",
    "# Define the 'Amount Paid' column\n",
    "amount_column = 'Amount Paid'\n",
    "\n",
    "# Get the column number for the 'Amount Paid' column\n",
    "col_num = list(summary_df.columns).index(amount_column)\n",
    "\n",
    "# Add the series to the chart\n",
    "simple_chart.add_series({\n",
    "    'name': amount_column,\n",
    "    'categories': [sheet, first_row, category_column, last_row, category_column],\n",
    "    'values': [sheet, first_row, col_num, last_row, col_num]\n",
    "    })"
   ]
  },
  {
   "cell_type": "code",
   "execution_count": 69,
   "metadata": {},
   "outputs": [],
   "source": [
    "# Set the chart title\n",
    "simple_chart.set_title({'name': 'Expense Chart'})"
   ]
  },
  {
   "cell_type": "code",
   "execution_count": 70,
   "metadata": {},
   "outputs": [],
   "source": [
    "# Insert the chart into the sheet\n",
    "worksheet.insert_chart('C1', simple_chart)"
   ]
  },
  {
   "cell_type": "code",
   "execution_count": 71,
   "metadata": {},
   "outputs": [],
   "source": [
    "# Save the file\n",
    "writer.save()"
   ]
  },
  {
   "cell_type": "code",
   "execution_count": null,
   "metadata": {},
   "outputs": [],
   "source": []
  }
 ],
 "metadata": {
  "kernelspec": {
   "display_name": "Python 3",
   "language": "python",
   "name": "python3"
  },
  "language_info": {
   "codemirror_mode": {
    "name": "ipython",
    "version": 3
   },
   "file_extension": ".py",
   "mimetype": "text/x-python",
   "name": "python",
   "nbconvert_exporter": "python",
   "pygments_lexer": "ipython3",
   "version": "3.7.3"
  }
 },
 "nbformat": 4,
 "nbformat_minor": 2
}
