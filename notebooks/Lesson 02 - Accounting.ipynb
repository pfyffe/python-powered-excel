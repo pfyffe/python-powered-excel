{
 "cells": [
  {
   "cell_type": "markdown",
   "metadata": {},
   "source": [
    "## Lesson 02 - The Accounting Report\n",
    "\n",
    "#### Overview: \n",
    "Angela, the head of accounting, sends her report in on three separate sheets:\n",
    "- Angela: Client Accounts\n",
    "- Kevin: Employee Expenses\n",
    "- Oscar: Company Expenses\n",
    "\n",
    "<font color=red>**Caveat**</font>: I don't work in finance or accounting.  These are not reflective of actual accounting documents and are presented for instructional purposes only.\n",
    "\n",
    "In this lesson we're going to talk about the following:\n",
    "* Reading multiple sheets from the same file\n",
    "* Basic Date Manipulation\n",
    "* Conditional formatting\n",
    "* Writing multiple sheets to the same file\n",
    "\n",
    "#### Handy References:\n",
    "* [Official Python Documentation](https://docs.python.org/3/)\n",
    "* [Jupyter Notebook Documentation](https://jupyter-notebook.readthedocs.io/en/stable/notebook.html)\n",
    "* [Pandas](https://pandas.pydata.org/)\n",
    "* [XlsxWriter](https://xlsxwriter.readthedocs.io/)"
   ]
  },
  {
   "cell_type": "markdown",
   "metadata": {},
   "source": [
    "### Reading Multiple Sheets\n",
    "\n",
    "The file we're working with is /data/accounting.xlsx.  Everyone go ahead and download it and take a quick look.  It always helps to get an idea of how the source file is laid out before reading it into Python.\n",
    "\n",
    "You have three separate sheets, labeled 'Angela', 'Kevin', and 'Oscar'.\n",
    "* Angela's sheet is a listing of clients, bill dates, bill amounts, paid amounts, the date, and the balance due.\n",
    "* Kevin's sheet is a listing of employee expense requests and the amount approved and paid.\n",
    "* Oscar's sheet is simply a list of company expenses that were paid out, broken down by month.\n",
    "\n",
    "We're going to read the whole file into pandas using the [read_excel](https://pandas.pydata.org/pandas-docs/stable/reference/api/pandas.read_excel.html) method.  As before, the first thing we have to do is import the required packages and define the path the file we want to read."
   ]
  },
  {
   "cell_type": "code",
   "execution_count": 1,
   "metadata": {},
   "outputs": [],
   "source": [
    "# File Imports\n",
    "import pandas as pd\n",
    "import xlsxwriter\n",
    "import os"
   ]
  },
  {
   "cell_type": "code",
   "execution_count": 2,
   "metadata": {},
   "outputs": [],
   "source": [
    "# Define the path to the file\n",
    "accounting_file = os.path.join('..', 'data', 'accounting.xlsx')"
   ]
  },
  {
   "cell_type": "markdown",
   "metadata": {},
   "source": [
    "Let's start by reading in the sheets individually and taking a look at them in pandas."
   ]
  },
  {
   "cell_type": "code",
   "execution_count": 3,
   "metadata": {},
   "outputs": [],
   "source": [
    "angela_df = pd.read_excel(accounting_file, sheet_name='Angela')"
   ]
  },
  {
   "cell_type": "code",
   "execution_count": 4,
   "metadata": {},
   "outputs": [
    {
     "data": {
      "text/html": [
       "<div>\n",
       "<style scoped>\n",
       "    .dataframe tbody tr th:only-of-type {\n",
       "        vertical-align: middle;\n",
       "    }\n",
       "\n",
       "    .dataframe tbody tr th {\n",
       "        vertical-align: top;\n",
       "    }\n",
       "\n",
       "    .dataframe thead th {\n",
       "        text-align: right;\n",
       "    }\n",
       "</style>\n",
       "<table border=\"1\" class=\"dataframe\">\n",
       "  <thead>\n",
       "    <tr style=\"text-align: right;\">\n",
       "      <th></th>\n",
       "      <th>Customer</th>\n",
       "      <th>Bill Date</th>\n",
       "      <th>Amount</th>\n",
       "      <th>Paid</th>\n",
       "      <th>Paid Date</th>\n",
       "      <th>Balance</th>\n",
       "    </tr>\n",
       "  </thead>\n",
       "  <tbody>\n",
       "    <tr>\n",
       "      <th>0</th>\n",
       "      <td>Blue Cross</td>\n",
       "      <td>2019-03-01</td>\n",
       "      <td>9900</td>\n",
       "      <td>9900</td>\n",
       "      <td>2019-03-15 00:00:00</td>\n",
       "      <td>0</td>\n",
       "    </tr>\n",
       "    <tr>\n",
       "      <th>1</th>\n",
       "      <td>Dunmore High</td>\n",
       "      <td>2019-03-01</td>\n",
       "      <td>6600</td>\n",
       "      <td>0</td>\n",
       "      <td>2019-03-15 00:00:00</td>\n",
       "      <td>6600</td>\n",
       "    </tr>\n",
       "    <tr>\n",
       "      <th>2</th>\n",
       "      <td>Maguire Advertising</td>\n",
       "      <td>2019-03-01</td>\n",
       "      <td>5775</td>\n",
       "      <td>5000</td>\n",
       "      <td>2019-03-15 00:00:00</td>\n",
       "      <td>775</td>\n",
       "    </tr>\n",
       "    <tr>\n",
       "      <th>3</th>\n",
       "      <td>Decker Automotive</td>\n",
       "      <td>2019-03-01</td>\n",
       "      <td>3300</td>\n",
       "      <td>3000</td>\n",
       "      <td>2019-03-15 00:00:00</td>\n",
       "      <td>300</td>\n",
       "    </tr>\n",
       "    <tr>\n",
       "      <th>4</th>\n",
       "      <td>Lackawanna County</td>\n",
       "      <td>2019-03-01</td>\n",
       "      <td>6600</td>\n",
       "      <td>6000</td>\n",
       "      <td>2019-03-15 00:00:00</td>\n",
       "      <td>600</td>\n",
       "    </tr>\n",
       "  </tbody>\n",
       "</table>\n",
       "</div>"
      ],
      "text/plain": [
       "              Customer  Bill Date  Amount  Paid            Paid Date  Balance\n",
       "0           Blue Cross 2019-03-01    9900  9900  2019-03-15 00:00:00        0\n",
       "1         Dunmore High 2019-03-01    6600     0  2019-03-15 00:00:00     6600\n",
       "2  Maguire Advertising 2019-03-01    5775  5000  2019-03-15 00:00:00      775\n",
       "3    Decker Automotive 2019-03-01    3300  3000  2019-03-15 00:00:00      300\n",
       "4    Lackawanna County 2019-03-01    6600  6000  2019-03-15 00:00:00      600"
      ]
     },
     "execution_count": 4,
     "metadata": {},
     "output_type": "execute_result"
    }
   ],
   "source": [
    "angela_df.head()"
   ]
  },
  {
   "cell_type": "code",
   "execution_count": 5,
   "metadata": {},
   "outputs": [],
   "source": [
    "kevin_df = pd.read_excel(accounting_file, sheet_name='Kevin')"
   ]
  },
  {
   "cell_type": "code",
   "execution_count": 6,
   "metadata": {},
   "outputs": [
    {
     "data": {
      "text/html": [
       "<div>\n",
       "<style scoped>\n",
       "    .dataframe tbody tr th:only-of-type {\n",
       "        vertical-align: middle;\n",
       "    }\n",
       "\n",
       "    .dataframe tbody tr th {\n",
       "        vertical-align: top;\n",
       "    }\n",
       "\n",
       "    .dataframe thead th {\n",
       "        text-align: right;\n",
       "    }\n",
       "</style>\n",
       "<table border=\"1\" class=\"dataframe\">\n",
       "  <thead>\n",
       "    <tr style=\"text-align: right;\">\n",
       "      <th></th>\n",
       "      <th>Employee</th>\n",
       "      <th>Date</th>\n",
       "      <th>Expense</th>\n",
       "      <th>Amount Requested</th>\n",
       "      <th>Justification</th>\n",
       "      <th>Amount Paid</th>\n",
       "    </tr>\n",
       "  </thead>\n",
       "  <tbody>\n",
       "    <tr>\n",
       "      <th>0</th>\n",
       "      <td>Michael</td>\n",
       "      <td>2019-03-01</td>\n",
       "      <td>Gas to NY</td>\n",
       "      <td>75</td>\n",
       "      <td>Seeing Jan</td>\n",
       "      <td>75</td>\n",
       "    </tr>\n",
       "    <tr>\n",
       "      <th>1</th>\n",
       "      <td>Michael</td>\n",
       "      <td>2019-03-07</td>\n",
       "      <td>Gas to NY</td>\n",
       "      <td>75</td>\n",
       "      <td>Seeing Jan</td>\n",
       "      <td>75</td>\n",
       "    </tr>\n",
       "    <tr>\n",
       "      <th>2</th>\n",
       "      <td>Michael</td>\n",
       "      <td>2019-03-09</td>\n",
       "      <td>Gas to NY</td>\n",
       "      <td>75</td>\n",
       "      <td>Seeing Jan</td>\n",
       "      <td>75</td>\n",
       "    </tr>\n",
       "    <tr>\n",
       "      <th>3</th>\n",
       "      <td>Darryl</td>\n",
       "      <td>2019-03-01</td>\n",
       "      <td>Food</td>\n",
       "      <td>50</td>\n",
       "      <td>Warehouse Lunch</td>\n",
       "      <td>50</td>\n",
       "    </tr>\n",
       "    <tr>\n",
       "      <th>4</th>\n",
       "      <td>Michael</td>\n",
       "      <td>2019-03-15</td>\n",
       "      <td>Food</td>\n",
       "      <td>200</td>\n",
       "      <td>Dinner with Jan</td>\n",
       "      <td>150</td>\n",
       "    </tr>\n",
       "  </tbody>\n",
       "</table>\n",
       "</div>"
      ],
      "text/plain": [
       "  Employee       Date    Expense  Amount Requested    Justification  \\\n",
       "0  Michael 2019-03-01  Gas to NY                75       Seeing Jan   \n",
       "1  Michael 2019-03-07  Gas to NY                75       Seeing Jan   \n",
       "2  Michael 2019-03-09  Gas to NY                75       Seeing Jan   \n",
       "3   Darryl 2019-03-01       Food                50  Warehouse Lunch   \n",
       "4  Michael 2019-03-15       Food               200  Dinner with Jan   \n",
       "\n",
       "   Amount Paid  \n",
       "0           75  \n",
       "1           75  \n",
       "2           75  \n",
       "3           50  \n",
       "4          150  "
      ]
     },
     "execution_count": 6,
     "metadata": {},
     "output_type": "execute_result"
    }
   ],
   "source": [
    "kevin_df.head()"
   ]
  },
  {
   "cell_type": "code",
   "execution_count": 7,
   "metadata": {},
   "outputs": [],
   "source": [
    "oscar_df = pd.read_excel(accounting_file, sheet_name='Oscar')"
   ]
  },
  {
   "cell_type": "code",
   "execution_count": 8,
   "metadata": {},
   "outputs": [
    {
     "data": {
      "text/html": [
       "<div>\n",
       "<style scoped>\n",
       "    .dataframe tbody tr th:only-of-type {\n",
       "        vertical-align: middle;\n",
       "    }\n",
       "\n",
       "    .dataframe tbody tr th {\n",
       "        vertical-align: top;\n",
       "    }\n",
       "\n",
       "    .dataframe thead th {\n",
       "        text-align: right;\n",
       "    }\n",
       "</style>\n",
       "<table border=\"1\" class=\"dataframe\">\n",
       "  <thead>\n",
       "    <tr style=\"text-align: right;\">\n",
       "      <th></th>\n",
       "      <th>Month</th>\n",
       "      <th>Item</th>\n",
       "      <th>Amount Paid</th>\n",
       "    </tr>\n",
       "  </thead>\n",
       "  <tbody>\n",
       "    <tr>\n",
       "      <th>0</th>\n",
       "      <td>March</td>\n",
       "      <td>HammerMill Paper</td>\n",
       "      <td>1000</td>\n",
       "    </tr>\n",
       "    <tr>\n",
       "      <th>1</th>\n",
       "      <td>March</td>\n",
       "      <td>Fuel - Warehouse</td>\n",
       "      <td>200</td>\n",
       "    </tr>\n",
       "    <tr>\n",
       "      <th>2</th>\n",
       "      <td>March</td>\n",
       "      <td>Equipment - Warehouse</td>\n",
       "      <td>500</td>\n",
       "    </tr>\n",
       "    <tr>\n",
       "      <th>3</th>\n",
       "      <td>March</td>\n",
       "      <td>Chrysler Seabring Lease</td>\n",
       "      <td>350</td>\n",
       "    </tr>\n",
       "    <tr>\n",
       "      <th>4</th>\n",
       "      <td>March</td>\n",
       "      <td>Georgia-Pacific Paper</td>\n",
       "      <td>750</td>\n",
       "    </tr>\n",
       "  </tbody>\n",
       "</table>\n",
       "</div>"
      ],
      "text/plain": [
       "   Month                     Item  Amount Paid\n",
       "0  March         HammerMill Paper         1000\n",
       "1  March         Fuel - Warehouse          200\n",
       "2  March    Equipment - Warehouse          500\n",
       "3  March  Chrysler Seabring Lease          350\n",
       "4  March    Georgia-Pacific Paper          750"
      ]
     },
     "execution_count": 8,
     "metadata": {},
     "output_type": "execute_result"
    }
   ],
   "source": [
    "oscar_df.head()"
   ]
  },
  {
   "cell_type": "markdown",
   "metadata": {},
   "source": [
    "#### Reading all sheets at once\n",
    "* We can read all the worksheets in a single Excel file with one command by changing `sheet_name` from the name of the sheet to `None`.\n",
    "* Instead of getting a single DataFrame, we'll get an  [Ordered Dictionary](https://docs.python.org/2/library/collections.html#collections.OrderedDict) containing the name of each sheet as the key and the data as the value.\n",
    "* We talked about dictionaries in Python in the previous lesson.  Ordered Dictionaries are much the same, except the keys are in a specific order.\n",
    "* Let's take a look at the data:"
   ]
  },
  {
   "cell_type": "code",
   "execution_count": 9,
   "metadata": {},
   "outputs": [],
   "source": [
    "frames = pd.read_excel(accounting_file, sheet_name=None)"
   ]
  },
  {
   "cell_type": "code",
   "execution_count": 10,
   "metadata": {},
   "outputs": [
    {
     "data": {
      "text/plain": [
       "odict_keys(['Angela', 'Kevin', 'Oscar'])"
      ]
     },
     "execution_count": 10,
     "metadata": {},
     "output_type": "execute_result"
    }
   ],
   "source": [
    "# Accessing the list of keys in a Dictionary\n",
    "frames.keys()"
   ]
  },
  {
   "cell_type": "code",
   "execution_count": 11,
   "metadata": {},
   "outputs": [
    {
     "data": {
      "text/html": [
       "<div>\n",
       "<style scoped>\n",
       "    .dataframe tbody tr th:only-of-type {\n",
       "        vertical-align: middle;\n",
       "    }\n",
       "\n",
       "    .dataframe tbody tr th {\n",
       "        vertical-align: top;\n",
       "    }\n",
       "\n",
       "    .dataframe thead th {\n",
       "        text-align: right;\n",
       "    }\n",
       "</style>\n",
       "<table border=\"1\" class=\"dataframe\">\n",
       "  <thead>\n",
       "    <tr style=\"text-align: right;\">\n",
       "      <th></th>\n",
       "      <th>Customer</th>\n",
       "      <th>Bill Date</th>\n",
       "      <th>Amount</th>\n",
       "      <th>Paid</th>\n",
       "      <th>Paid Date</th>\n",
       "      <th>Balance</th>\n",
       "    </tr>\n",
       "  </thead>\n",
       "  <tbody>\n",
       "    <tr>\n",
       "      <th>0</th>\n",
       "      <td>Blue Cross</td>\n",
       "      <td>2019-03-01</td>\n",
       "      <td>9900</td>\n",
       "      <td>9900</td>\n",
       "      <td>2019-03-15 00:00:00</td>\n",
       "      <td>0</td>\n",
       "    </tr>\n",
       "    <tr>\n",
       "      <th>1</th>\n",
       "      <td>Dunmore High</td>\n",
       "      <td>2019-03-01</td>\n",
       "      <td>6600</td>\n",
       "      <td>0</td>\n",
       "      <td>2019-03-15 00:00:00</td>\n",
       "      <td>6600</td>\n",
       "    </tr>\n",
       "    <tr>\n",
       "      <th>2</th>\n",
       "      <td>Maguire Advertising</td>\n",
       "      <td>2019-03-01</td>\n",
       "      <td>5775</td>\n",
       "      <td>5000</td>\n",
       "      <td>2019-03-15 00:00:00</td>\n",
       "      <td>775</td>\n",
       "    </tr>\n",
       "    <tr>\n",
       "      <th>3</th>\n",
       "      <td>Decker Automotive</td>\n",
       "      <td>2019-03-01</td>\n",
       "      <td>3300</td>\n",
       "      <td>3000</td>\n",
       "      <td>2019-03-15 00:00:00</td>\n",
       "      <td>300</td>\n",
       "    </tr>\n",
       "    <tr>\n",
       "      <th>4</th>\n",
       "      <td>Lackawanna County</td>\n",
       "      <td>2019-03-01</td>\n",
       "      <td>6600</td>\n",
       "      <td>6000</td>\n",
       "      <td>2019-03-15 00:00:00</td>\n",
       "      <td>600</td>\n",
       "    </tr>\n",
       "  </tbody>\n",
       "</table>\n",
       "</div>"
      ],
      "text/plain": [
       "              Customer  Bill Date  Amount  Paid            Paid Date  Balance\n",
       "0           Blue Cross 2019-03-01    9900  9900  2019-03-15 00:00:00        0\n",
       "1         Dunmore High 2019-03-01    6600     0  2019-03-15 00:00:00     6600\n",
       "2  Maguire Advertising 2019-03-01    5775  5000  2019-03-15 00:00:00      775\n",
       "3    Decker Automotive 2019-03-01    3300  3000  2019-03-15 00:00:00      300\n",
       "4    Lackawanna County 2019-03-01    6600  6000  2019-03-15 00:00:00      600"
      ]
     },
     "execution_count": 11,
     "metadata": {},
     "output_type": "execute_result"
    }
   ],
   "source": [
    "# Accessing a single value from a dictionary\n",
    "frames['Angela'].head()"
   ]
  },
  {
   "cell_type": "markdown",
   "metadata": {},
   "source": [
    "We've got access to our data, so let's do some quick summary calculations.  Looking at Angela's data, let's sum by Customer and Month.  Since Angela used \"Bill Date\" and we need the Month, let's create a new column for that.  "
   ]
  },
  {
   "cell_type": "markdown",
   "metadata": {},
   "source": [
    "### Basic Date Manipulation\n",
    "* Dates and Times are a fairly complex subject when it comes to Python and pandas.  For this lesson I'm going to cover a few basic techniques but I encourage you to spend some time reading about them on your own after the class.\n",
    "* Pandas will normally read Excel date-time fields as a date-time type.  We can verify it did by using `.info()` on our DataFrame:"
   ]
  },
  {
   "cell_type": "code",
   "execution_count": 12,
   "metadata": {},
   "outputs": [
    {
     "name": "stdout",
     "output_type": "stream",
     "text": [
      "<class 'pandas.core.frame.DataFrame'>\n",
      "RangeIndex: 60 entries, 0 to 59\n",
      "Data columns (total 6 columns):\n",
      "Customer     60 non-null object\n",
      "Bill Date    60 non-null datetime64[ns]\n",
      "Amount       60 non-null int64\n",
      "Paid         60 non-null int64\n",
      "Paid Date    60 non-null object\n",
      "Balance      60 non-null int64\n",
      "dtypes: datetime64[ns](1), int64(3), object(2)\n",
      "memory usage: 2.9+ KB\n"
     ]
    }
   ],
   "source": [
    "angela_df = frames['Angela']\n",
    "angela_df.info()"
   ]
  },
  {
   "cell_type": "markdown",
   "metadata": {},
   "source": [
    "*Note: This is a good time to address a vocabulary issue.  I've been referring to columns throughout the class so far, because that's what we call them in Excel and in most tables.  Pandas referrs to a column as a [Series](https://pandas.pydata.org/pandas-docs/stable/reference/api/pandas.Series.html).  When you're looking at the documentation, just remember a Series is a column.*\n",
    "\n",
    "* Let's say we wanted to extract the month from our 'Bill Date' column.\n",
    "* You can see that 'Bill Date' column is a `datetime64[ns]` object, which is exactly what we need.  If it wasn't, you could convert it with [pd.to_datetime](https://pandas.pydata.org/pandas-docs/stable/reference/api/pandas.to_datetime.html).\n",
    "* From there we can use [Series.dt.month](https://pandas.pydata.org/pandas-docs/stable/reference/api/pandas.Series.dt.month.html) to extract the number of the month from the column.  Let's see what that gives us:"
   ]
  },
  {
   "cell_type": "code",
   "execution_count": 13,
   "metadata": {
    "scrolled": true
   },
   "outputs": [
    {
     "data": {
      "text/plain": [
       "0    3\n",
       "1    3\n",
       "2    3\n",
       "3    3\n",
       "4    3\n",
       "Name: Bill Date, dtype: int64"
      ]
     },
     "execution_count": 13,
     "metadata": {},
     "output_type": "execute_result"
    }
   ],
   "source": [
    "angela_df['Bill Date'].dt.month.head()"
   ]
  },
  {
   "cell_type": "markdown",
   "metadata": {},
   "source": [
    "#### Erroneous Data\n",
    "* Let's try the same thing with the `Paid Date` column.\n",
    "* If you notice from our .info() command earlier, that column is an `object` data type and not a datetime."
   ]
  },
  {
   "cell_type": "code",
   "execution_count": 14,
   "metadata": {},
   "outputs": [
    {
     "ename": "AttributeError",
     "evalue": "Can only use .dt accessor with datetimelike values",
     "output_type": "error",
     "traceback": [
      "\u001b[1;31m---------------------------------------------------------------------------\u001b[0m",
      "\u001b[1;31mAttributeError\u001b[0m                            Traceback (most recent call last)",
      "\u001b[1;32m<ipython-input-14-180f879febc9>\u001b[0m in \u001b[0;36m<module>\u001b[1;34m\u001b[0m\n\u001b[1;32m----> 1\u001b[1;33m \u001b[0mangela_df\u001b[0m\u001b[1;33m[\u001b[0m\u001b[1;34m'Paid Date'\u001b[0m\u001b[1;33m]\u001b[0m\u001b[1;33m.\u001b[0m\u001b[0mdt\u001b[0m\u001b[1;33m.\u001b[0m\u001b[0mmonth\u001b[0m\u001b[1;33m.\u001b[0m\u001b[0mhead\u001b[0m\u001b[1;33m(\u001b[0m\u001b[1;33m)\u001b[0m\u001b[1;33m\u001b[0m\u001b[1;33m\u001b[0m\u001b[0m\n\u001b[0m",
      "\u001b[1;32mC:\\ProgramData\\Anaconda3\\lib\\site-packages\\pandas\\core\\generic.py\u001b[0m in \u001b[0;36m__getattr__\u001b[1;34m(self, name)\u001b[0m\n\u001b[0;32m   5061\u001b[0m         if (name in self._internal_names_set or name in self._metadata or\n\u001b[0;32m   5062\u001b[0m                 name in self._accessors):\n\u001b[1;32m-> 5063\u001b[1;33m             \u001b[1;32mreturn\u001b[0m \u001b[0mobject\u001b[0m\u001b[1;33m.\u001b[0m\u001b[0m__getattribute__\u001b[0m\u001b[1;33m(\u001b[0m\u001b[0mself\u001b[0m\u001b[1;33m,\u001b[0m \u001b[0mname\u001b[0m\u001b[1;33m)\u001b[0m\u001b[1;33m\u001b[0m\u001b[1;33m\u001b[0m\u001b[0m\n\u001b[0m\u001b[0;32m   5064\u001b[0m         \u001b[1;32melse\u001b[0m\u001b[1;33m:\u001b[0m\u001b[1;33m\u001b[0m\u001b[1;33m\u001b[0m\u001b[0m\n\u001b[0;32m   5065\u001b[0m             \u001b[1;32mif\u001b[0m \u001b[0mself\u001b[0m\u001b[1;33m.\u001b[0m\u001b[0m_info_axis\u001b[0m\u001b[1;33m.\u001b[0m\u001b[0m_can_hold_identifiers_and_holds_name\u001b[0m\u001b[1;33m(\u001b[0m\u001b[0mname\u001b[0m\u001b[1;33m)\u001b[0m\u001b[1;33m:\u001b[0m\u001b[1;33m\u001b[0m\u001b[1;33m\u001b[0m\u001b[0m\n",
      "\u001b[1;32mC:\\ProgramData\\Anaconda3\\lib\\site-packages\\pandas\\core\\accessor.py\u001b[0m in \u001b[0;36m__get__\u001b[1;34m(self, obj, cls)\u001b[0m\n\u001b[0;32m    169\u001b[0m             \u001b[1;31m# we're accessing the attribute of the class, i.e., Dataset.geo\u001b[0m\u001b[1;33m\u001b[0m\u001b[1;33m\u001b[0m\u001b[1;33m\u001b[0m\u001b[0m\n\u001b[0;32m    170\u001b[0m             \u001b[1;32mreturn\u001b[0m \u001b[0mself\u001b[0m\u001b[1;33m.\u001b[0m\u001b[0m_accessor\u001b[0m\u001b[1;33m\u001b[0m\u001b[1;33m\u001b[0m\u001b[0m\n\u001b[1;32m--> 171\u001b[1;33m         \u001b[0maccessor_obj\u001b[0m \u001b[1;33m=\u001b[0m \u001b[0mself\u001b[0m\u001b[1;33m.\u001b[0m\u001b[0m_accessor\u001b[0m\u001b[1;33m(\u001b[0m\u001b[0mobj\u001b[0m\u001b[1;33m)\u001b[0m\u001b[1;33m\u001b[0m\u001b[1;33m\u001b[0m\u001b[0m\n\u001b[0m\u001b[0;32m    172\u001b[0m         \u001b[1;31m# Replace the property with the accessor object. Inspired by:\u001b[0m\u001b[1;33m\u001b[0m\u001b[1;33m\u001b[0m\u001b[1;33m\u001b[0m\u001b[0m\n\u001b[0;32m    173\u001b[0m         \u001b[1;31m# http://www.pydanny.com/cached-property.html\u001b[0m\u001b[1;33m\u001b[0m\u001b[1;33m\u001b[0m\u001b[1;33m\u001b[0m\u001b[0m\n",
      "\u001b[1;32mC:\\ProgramData\\Anaconda3\\lib\\site-packages\\pandas\\core\\indexes\\accessors.py\u001b[0m in \u001b[0;36m__new__\u001b[1;34m(cls, data)\u001b[0m\n\u001b[0;32m    322\u001b[0m             \u001b[1;32mpass\u001b[0m  \u001b[1;31m# we raise an attribute error anyway\u001b[0m\u001b[1;33m\u001b[0m\u001b[1;33m\u001b[0m\u001b[0m\n\u001b[0;32m    323\u001b[0m \u001b[1;33m\u001b[0m\u001b[0m\n\u001b[1;32m--> 324\u001b[1;33m         raise AttributeError(\"Can only use .dt accessor with datetimelike \"\n\u001b[0m\u001b[0;32m    325\u001b[0m                              \"values\")\n",
      "\u001b[1;31mAttributeError\u001b[0m: Can only use .dt accessor with datetimelike values"
     ]
    }
   ],
   "source": [
    "angela_df['Paid Date'].dt.month.head()"
   ]
  },
  {
   "cell_type": "markdown",
   "metadata": {},
   "source": [
    "##### Python Errors\n",
    "For a lot of us, that probably looks like a lot of meaningless information.  If you look at the top of the output, you'll see `AttributeError` in red text, followed a couple of lines later by `----> 1 angela_df['Paid Date'].dt.month.head()`.  \n",
    "* That line is telling us the problem is on Line 1 with the command listed.\n",
    "* The next several lines point to the pandas library and show us what parts of the library the error occurred in.\n",
    "* The last line `AttributeError: Can only use .dt accessor with datetimelike values` tells us what the actual problem is.\n",
    "\n",
    "Reading and understanding error messages in Python, or any programming language, is something that comes with time and experience.  Whenever you get an error, always look for the line in your code that caused the error, and the reason the error happened.  From there it's usually possible through a combination of research and reading to determine what went wrong and how to fix it.  In our case, it's because we tried to use a method that only works on datetimes on some data that was not a datetime.  Let's fix that now:\n",
    "* We will assign the column `angela_df['Paid Date']` to the value `pd.to_datetime(angela_df['Paid Date'])`:"
   ]
  },
  {
   "cell_type": "code",
   "execution_count": 15,
   "metadata": {},
   "outputs": [
    {
     "ename": "TypeError",
     "evalue": "invalid string coercion to datetime",
     "output_type": "error",
     "traceback": [
      "\u001b[1;31m---------------------------------------------------------------------------\u001b[0m",
      "\u001b[1;31mValueError\u001b[0m                                Traceback (most recent call last)",
      "\u001b[1;32mpandas/_libs/tslib.pyx\u001b[0m in \u001b[0;36mpandas._libs.tslib.array_to_datetime\u001b[1;34m()\u001b[0m\n",
      "\u001b[1;32mpandas/_libs/tslibs/np_datetime.pyx\u001b[0m in \u001b[0;36mpandas._libs.tslibs.np_datetime._string_to_dts\u001b[1;34m()\u001b[0m\n",
      "\u001b[1;31mValueError\u001b[0m: Error parsing datetime string \"-\" at position 1",
      "\nDuring handling of the above exception, another exception occurred:\n",
      "\u001b[1;31mValueError\u001b[0m                                Traceback (most recent call last)",
      "\u001b[1;32mpandas/_libs/tslib.pyx\u001b[0m in \u001b[0;36mpandas._libs.tslib.array_to_datetime\u001b[1;34m()\u001b[0m\n",
      "\u001b[1;32mpandas/_libs/tslibs/parsing.pyx\u001b[0m in \u001b[0;36mpandas._libs.tslibs.parsing.parse_datetime_string\u001b[1;34m()\u001b[0m\n",
      "\u001b[1;32mC:\\ProgramData\\Anaconda3\\lib\\site-packages\\dateutil\\parser\\_parser.py\u001b[0m in \u001b[0;36mparse\u001b[1;34m(timestr, parserinfo, **kwargs)\u001b[0m\n\u001b[0;32m   1357\u001b[0m     \u001b[1;32melse\u001b[0m\u001b[1;33m:\u001b[0m\u001b[1;33m\u001b[0m\u001b[1;33m\u001b[0m\u001b[0m\n\u001b[1;32m-> 1358\u001b[1;33m         \u001b[1;32mreturn\u001b[0m \u001b[0mDEFAULTPARSER\u001b[0m\u001b[1;33m.\u001b[0m\u001b[0mparse\u001b[0m\u001b[1;33m(\u001b[0m\u001b[0mtimestr\u001b[0m\u001b[1;33m,\u001b[0m \u001b[1;33m**\u001b[0m\u001b[0mkwargs\u001b[0m\u001b[1;33m)\u001b[0m\u001b[1;33m\u001b[0m\u001b[1;33m\u001b[0m\u001b[0m\n\u001b[0m\u001b[0;32m   1359\u001b[0m \u001b[1;33m\u001b[0m\u001b[0m\n",
      "\u001b[1;32mC:\\ProgramData\\Anaconda3\\lib\\site-packages\\dateutil\\parser\\_parser.py\u001b[0m in \u001b[0;36mparse\u001b[1;34m(self, timestr, default, ignoretz, tzinfos, **kwargs)\u001b[0m\n\u001b[0;32m    651\u001b[0m         \u001b[1;32mif\u001b[0m \u001b[0mlen\u001b[0m\u001b[1;33m(\u001b[0m\u001b[0mres\u001b[0m\u001b[1;33m)\u001b[0m \u001b[1;33m==\u001b[0m \u001b[1;36m0\u001b[0m\u001b[1;33m:\u001b[0m\u001b[1;33m\u001b[0m\u001b[1;33m\u001b[0m\u001b[0m\n\u001b[1;32m--> 652\u001b[1;33m             \u001b[1;32mraise\u001b[0m \u001b[0mValueError\u001b[0m\u001b[1;33m(\u001b[0m\u001b[1;34m\"String does not contain a date:\"\u001b[0m\u001b[1;33m,\u001b[0m \u001b[0mtimestr\u001b[0m\u001b[1;33m)\u001b[0m\u001b[1;33m\u001b[0m\u001b[1;33m\u001b[0m\u001b[0m\n\u001b[0m\u001b[0;32m    653\u001b[0m \u001b[1;33m\u001b[0m\u001b[0m\n",
      "\u001b[1;31mValueError\u001b[0m: ('String does not contain a date:', '-')",
      "\nDuring handling of the above exception, another exception occurred:\n",
      "\u001b[1;31mTypeError\u001b[0m                                 Traceback (most recent call last)",
      "\u001b[1;32m<ipython-input-15-d184b19a4d03>\u001b[0m in \u001b[0;36m<module>\u001b[1;34m\u001b[0m\n\u001b[1;32m----> 1\u001b[1;33m \u001b[0mangela_df\u001b[0m\u001b[1;33m[\u001b[0m\u001b[1;34m'Paid Date'\u001b[0m\u001b[1;33m]\u001b[0m \u001b[1;33m=\u001b[0m \u001b[0mpd\u001b[0m\u001b[1;33m.\u001b[0m\u001b[0mto_datetime\u001b[0m\u001b[1;33m(\u001b[0m\u001b[0mangela_df\u001b[0m\u001b[1;33m[\u001b[0m\u001b[1;34m'Paid Date'\u001b[0m\u001b[1;33m]\u001b[0m\u001b[1;33m)\u001b[0m\u001b[1;33m\u001b[0m\u001b[1;33m\u001b[0m\u001b[0m\n\u001b[0m",
      "\u001b[1;32mC:\\ProgramData\\Anaconda3\\lib\\site-packages\\pandas\\core\\tools\\datetimes.py\u001b[0m in \u001b[0;36mto_datetime\u001b[1;34m(arg, errors, dayfirst, yearfirst, utc, box, format, exact, unit, infer_datetime_format, origin, cache)\u001b[0m\n\u001b[0;32m    590\u001b[0m         \u001b[1;32melse\u001b[0m\u001b[1;33m:\u001b[0m\u001b[1;33m\u001b[0m\u001b[1;33m\u001b[0m\u001b[0m\n\u001b[0;32m    591\u001b[0m             \u001b[1;32mfrom\u001b[0m \u001b[0mpandas\u001b[0m \u001b[1;32mimport\u001b[0m \u001b[0mSeries\u001b[0m\u001b[1;33m\u001b[0m\u001b[1;33m\u001b[0m\u001b[0m\n\u001b[1;32m--> 592\u001b[1;33m             \u001b[0mvalues\u001b[0m \u001b[1;33m=\u001b[0m \u001b[0mconvert_listlike\u001b[0m\u001b[1;33m(\u001b[0m\u001b[0marg\u001b[0m\u001b[1;33m.\u001b[0m\u001b[0m_values\u001b[0m\u001b[1;33m,\u001b[0m \u001b[1;32mTrue\u001b[0m\u001b[1;33m,\u001b[0m \u001b[0mformat\u001b[0m\u001b[1;33m)\u001b[0m\u001b[1;33m\u001b[0m\u001b[1;33m\u001b[0m\u001b[0m\n\u001b[0m\u001b[0;32m    593\u001b[0m             \u001b[0mresult\u001b[0m \u001b[1;33m=\u001b[0m \u001b[0mSeries\u001b[0m\u001b[1;33m(\u001b[0m\u001b[0mvalues\u001b[0m\u001b[1;33m,\u001b[0m \u001b[0mindex\u001b[0m\u001b[1;33m=\u001b[0m\u001b[0marg\u001b[0m\u001b[1;33m.\u001b[0m\u001b[0mindex\u001b[0m\u001b[1;33m,\u001b[0m \u001b[0mname\u001b[0m\u001b[1;33m=\u001b[0m\u001b[0marg\u001b[0m\u001b[1;33m.\u001b[0m\u001b[0mname\u001b[0m\u001b[1;33m)\u001b[0m\u001b[1;33m\u001b[0m\u001b[1;33m\u001b[0m\u001b[0m\n\u001b[0;32m    594\u001b[0m     \u001b[1;32melif\u001b[0m \u001b[0misinstance\u001b[0m\u001b[1;33m(\u001b[0m\u001b[0marg\u001b[0m\u001b[1;33m,\u001b[0m \u001b[1;33m(\u001b[0m\u001b[0mABCDataFrame\u001b[0m\u001b[1;33m,\u001b[0m \u001b[0mcompat\u001b[0m\u001b[1;33m.\u001b[0m\u001b[0mMutableMapping\u001b[0m\u001b[1;33m)\u001b[0m\u001b[1;33m)\u001b[0m\u001b[1;33m:\u001b[0m\u001b[1;33m\u001b[0m\u001b[1;33m\u001b[0m\u001b[0m\n",
      "\u001b[1;32mC:\\ProgramData\\Anaconda3\\lib\\site-packages\\pandas\\core\\tools\\datetimes.py\u001b[0m in \u001b[0;36m_convert_listlike_datetimes\u001b[1;34m(arg, box, format, name, tz, unit, errors, infer_datetime_format, dayfirst, yearfirst, exact)\u001b[0m\n\u001b[0;32m    300\u001b[0m             \u001b[0marg\u001b[0m\u001b[1;33m,\u001b[0m \u001b[0mdayfirst\u001b[0m\u001b[1;33m=\u001b[0m\u001b[0mdayfirst\u001b[0m\u001b[1;33m,\u001b[0m \u001b[0myearfirst\u001b[0m\u001b[1;33m=\u001b[0m\u001b[0myearfirst\u001b[0m\u001b[1;33m,\u001b[0m\u001b[1;33m\u001b[0m\u001b[1;33m\u001b[0m\u001b[0m\n\u001b[0;32m    301\u001b[0m             \u001b[0mutc\u001b[0m\u001b[1;33m=\u001b[0m\u001b[0mutc\u001b[0m\u001b[1;33m,\u001b[0m \u001b[0merrors\u001b[0m\u001b[1;33m=\u001b[0m\u001b[0merrors\u001b[0m\u001b[1;33m,\u001b[0m \u001b[0mrequire_iso8601\u001b[0m\u001b[1;33m=\u001b[0m\u001b[0mrequire_iso8601\u001b[0m\u001b[1;33m,\u001b[0m\u001b[1;33m\u001b[0m\u001b[1;33m\u001b[0m\u001b[0m\n\u001b[1;32m--> 302\u001b[1;33m             allow_object=True)\n\u001b[0m\u001b[0;32m    303\u001b[0m \u001b[1;33m\u001b[0m\u001b[0m\n\u001b[0;32m    304\u001b[0m     \u001b[1;32mif\u001b[0m \u001b[0mtz_parsed\u001b[0m \u001b[1;32mis\u001b[0m \u001b[1;32mnot\u001b[0m \u001b[1;32mNone\u001b[0m\u001b[1;33m:\u001b[0m\u001b[1;33m\u001b[0m\u001b[1;33m\u001b[0m\u001b[0m\n",
      "\u001b[1;32mC:\\ProgramData\\Anaconda3\\lib\\site-packages\\pandas\\core\\arrays\\datetimes.py\u001b[0m in \u001b[0;36mobjects_to_datetime64ns\u001b[1;34m(data, dayfirst, yearfirst, utc, errors, require_iso8601, allow_object)\u001b[0m\n\u001b[0;32m   1855\u001b[0m             \u001b[0mdayfirst\u001b[0m\u001b[1;33m=\u001b[0m\u001b[0mdayfirst\u001b[0m\u001b[1;33m,\u001b[0m\u001b[1;33m\u001b[0m\u001b[1;33m\u001b[0m\u001b[0m\n\u001b[0;32m   1856\u001b[0m             \u001b[0myearfirst\u001b[0m\u001b[1;33m=\u001b[0m\u001b[0myearfirst\u001b[0m\u001b[1;33m,\u001b[0m\u001b[1;33m\u001b[0m\u001b[1;33m\u001b[0m\u001b[0m\n\u001b[1;32m-> 1857\u001b[1;33m             \u001b[0mrequire_iso8601\u001b[0m\u001b[1;33m=\u001b[0m\u001b[0mrequire_iso8601\u001b[0m\u001b[1;33m\u001b[0m\u001b[1;33m\u001b[0m\u001b[0m\n\u001b[0m\u001b[0;32m   1858\u001b[0m         )\n\u001b[0;32m   1859\u001b[0m     \u001b[1;32mexcept\u001b[0m \u001b[0mValueError\u001b[0m \u001b[1;32mas\u001b[0m \u001b[0me\u001b[0m\u001b[1;33m:\u001b[0m\u001b[1;33m\u001b[0m\u001b[1;33m\u001b[0m\u001b[0m\n",
      "\u001b[1;32mpandas/_libs/tslib.pyx\u001b[0m in \u001b[0;36mpandas._libs.tslib.array_to_datetime\u001b[1;34m()\u001b[0m\n",
      "\u001b[1;32mpandas/_libs/tslib.pyx\u001b[0m in \u001b[0;36mpandas._libs.tslib.array_to_datetime\u001b[1;34m()\u001b[0m\n",
      "\u001b[1;32mpandas/_libs/tslib.pyx\u001b[0m in \u001b[0;36mpandas._libs.tslib.array_to_datetime_object\u001b[1;34m()\u001b[0m\n",
      "\u001b[1;32mpandas/_libs/tslib.pyx\u001b[0m in \u001b[0;36mpandas._libs.tslib.array_to_datetime\u001b[1;34m()\u001b[0m\n",
      "\u001b[1;31mTypeError\u001b[0m: invalid string coercion to datetime"
     ]
    }
   ],
   "source": [
    "angela_df['Paid Date'] = pd.to_datetime(angela_df['Paid Date'])"
   ]
  },
  {
   "cell_type": "markdown",
   "metadata": {},
   "source": [
    "Oops... we got another error.  This time we got a `TypeError` because the column contains some values that can't be converted to datetimes.  The line above that reads `ValueError: Error parsing datetime string \"-\" at position 1` tells us that is the problem.  \n",
    "\n",
    "If you look at the documentation page for [to_datetime](https://pandas.pydata.org/pandas-docs/stable/reference/api/pandas.to_datetime.html), you'll see we can change how errors are handled.  In our case, we'll set errors to `coerce`.  That will cause the command to convert every row possible, and set the others to a value called `NaT`.  All that means is that the value is Not a Time, or not a datetime.\n",
    "\n",
    "Let's try that now:"
   ]
  },
  {
   "cell_type": "code",
   "execution_count": 16,
   "metadata": {
    "scrolled": true
   },
   "outputs": [
    {
     "data": {
      "text/plain": [
       "0    2019-03-15\n",
       "1    2019-03-15\n",
       "2    2019-03-15\n",
       "3    2019-03-15\n",
       "4    2019-03-15\n",
       "5    2019-03-15\n",
       "6    2019-04-01\n",
       "7    2019-04-01\n",
       "8    2019-04-01\n",
       "9    2019-04-01\n",
       "10   2019-04-01\n",
       "11   2019-04-01\n",
       "12   2019-04-01\n",
       "13   2019-04-01\n",
       "14   2019-04-01\n",
       "15   2019-04-01\n",
       "16   2019-04-01\n",
       "17   2019-04-01\n",
       "18   2019-04-01\n",
       "19   2019-04-15\n",
       "20   2019-04-15\n",
       "21   2019-04-15\n",
       "22   2019-04-15\n",
       "23   2019-04-16\n",
       "24   2019-04-14\n",
       "25   2019-04-25\n",
       "26   2019-04-25\n",
       "27   2019-04-25\n",
       "28   2019-04-25\n",
       "29   2019-04-25\n",
       "30   2019-04-20\n",
       "31   2019-04-20\n",
       "32   2019-04-20\n",
       "33   2019-04-25\n",
       "34   2019-05-01\n",
       "35   2019-04-25\n",
       "36   2019-05-01\n",
       "37   2019-05-03\n",
       "38   2019-04-15\n",
       "39   2019-04-25\n",
       "40   2019-05-15\n",
       "41   2019-05-15\n",
       "42   2019-05-15\n",
       "43   2019-05-16\n",
       "44   2019-05-17\n",
       "45   2019-05-19\n",
       "46   2019-05-15\n",
       "47   2019-05-15\n",
       "48          NaT\n",
       "49          NaT\n",
       "50   2019-05-15\n",
       "51   2019-05-14\n",
       "52   2019-05-25\n",
       "53   2019-05-25\n",
       "54   2019-05-25\n",
       "55   2019-05-25\n",
       "56   2019-05-25\n",
       "57   2019-05-25\n",
       "58   2019-05-25\n",
       "59   2019-05-25\n",
       "Name: Paid Date, dtype: datetime64[ns]"
      ]
     },
     "execution_count": 16,
     "metadata": {},
     "output_type": "execute_result"
    }
   ],
   "source": [
    "pd.to_datetime(angela_df['Paid Date'], errors='coerce')"
   ]
  },
  {
   "cell_type": "markdown",
   "metadata": {},
   "source": [
    "If you look at lines 48 and 49 above, you'll see they are set to `NaT`.  We'll deal with those in just a second.  For now, let's assign that data back to the 'Paid Date' column."
   ]
  },
  {
   "cell_type": "code",
   "execution_count": 17,
   "metadata": {},
   "outputs": [],
   "source": [
    "angela_df['Paid Date'] = pd.to_datetime(angela_df['Paid Date'], errors='coerce')"
   ]
  },
  {
   "cell_type": "markdown",
   "metadata": {},
   "source": [
    "Now that we have our columns converted to the proper type, we want to calculate the turnaround time between the bill date and the paid date.  In Excel, we'd write a formula that subtracted the Bill Date from the Paid Date.  In pandas, we're simply going to do the calculation.  I'm keeping this fairly basic, but you can do some phenonminal stuff with column-wise operations in pandas.  I encourage everyone to further explore [Python for Data Analysis](https://learning.oreilly.com/library/view/python-for-data/9781491957653/) to see just how much is possible."
   ]
  },
  {
   "cell_type": "code",
   "execution_count": 18,
   "metadata": {},
   "outputs": [],
   "source": [
    "angela_df['Turnaround Time'] = angela_df['Paid Date'] - angela_df['Bill Date']"
   ]
  },
  {
   "cell_type": "code",
   "execution_count": 19,
   "metadata": {},
   "outputs": [
    {
     "data": {
      "text/html": [
       "<div>\n",
       "<style scoped>\n",
       "    .dataframe tbody tr th:only-of-type {\n",
       "        vertical-align: middle;\n",
       "    }\n",
       "\n",
       "    .dataframe tbody tr th {\n",
       "        vertical-align: top;\n",
       "    }\n",
       "\n",
       "    .dataframe thead th {\n",
       "        text-align: right;\n",
       "    }\n",
       "</style>\n",
       "<table border=\"1\" class=\"dataframe\">\n",
       "  <thead>\n",
       "    <tr style=\"text-align: right;\">\n",
       "      <th></th>\n",
       "      <th>Customer</th>\n",
       "      <th>Bill Date</th>\n",
       "      <th>Amount</th>\n",
       "      <th>Paid</th>\n",
       "      <th>Paid Date</th>\n",
       "      <th>Balance</th>\n",
       "      <th>Turnaround Time</th>\n",
       "    </tr>\n",
       "  </thead>\n",
       "  <tbody>\n",
       "    <tr>\n",
       "      <th>0</th>\n",
       "      <td>Blue Cross</td>\n",
       "      <td>2019-03-01</td>\n",
       "      <td>9900</td>\n",
       "      <td>9900</td>\n",
       "      <td>2019-03-15</td>\n",
       "      <td>0</td>\n",
       "      <td>14 days</td>\n",
       "    </tr>\n",
       "    <tr>\n",
       "      <th>1</th>\n",
       "      <td>Dunmore High</td>\n",
       "      <td>2019-03-01</td>\n",
       "      <td>6600</td>\n",
       "      <td>0</td>\n",
       "      <td>2019-03-15</td>\n",
       "      <td>6600</td>\n",
       "      <td>14 days</td>\n",
       "    </tr>\n",
       "    <tr>\n",
       "      <th>2</th>\n",
       "      <td>Maguire Advertising</td>\n",
       "      <td>2019-03-01</td>\n",
       "      <td>5775</td>\n",
       "      <td>5000</td>\n",
       "      <td>2019-03-15</td>\n",
       "      <td>775</td>\n",
       "      <td>14 days</td>\n",
       "    </tr>\n",
       "    <tr>\n",
       "      <th>3</th>\n",
       "      <td>Decker Automotive</td>\n",
       "      <td>2019-03-01</td>\n",
       "      <td>3300</td>\n",
       "      <td>3000</td>\n",
       "      <td>2019-03-15</td>\n",
       "      <td>300</td>\n",
       "      <td>14 days</td>\n",
       "    </tr>\n",
       "    <tr>\n",
       "      <th>4</th>\n",
       "      <td>Lackawanna County</td>\n",
       "      <td>2019-03-01</td>\n",
       "      <td>6600</td>\n",
       "      <td>6000</td>\n",
       "      <td>2019-03-15</td>\n",
       "      <td>600</td>\n",
       "      <td>14 days</td>\n",
       "    </tr>\n",
       "  </tbody>\n",
       "</table>\n",
       "</div>"
      ],
      "text/plain": [
       "              Customer  Bill Date  Amount  Paid  Paid Date  Balance  \\\n",
       "0           Blue Cross 2019-03-01    9900  9900 2019-03-15        0   \n",
       "1         Dunmore High 2019-03-01    6600     0 2019-03-15     6600   \n",
       "2  Maguire Advertising 2019-03-01    5775  5000 2019-03-15      775   \n",
       "3    Decker Automotive 2019-03-01    3300  3000 2019-03-15      300   \n",
       "4    Lackawanna County 2019-03-01    6600  6000 2019-03-15      600   \n",
       "\n",
       "  Turnaround Time  \n",
       "0         14 days  \n",
       "1         14 days  \n",
       "2         14 days  \n",
       "3         14 days  \n",
       "4         14 days  "
      ]
     },
     "execution_count": 19,
     "metadata": {},
     "output_type": "execute_result"
    }
   ],
   "source": [
    "angela_df.head()"
   ]
  },
  {
   "cell_type": "markdown",
   "metadata": {},
   "source": [
    "We have one final step before 'Turnaround Time' is complete.  Right now the column is still a date-time column, which menas we can't perform summary calculations like 'average' on it.  We have to tell pandas that it is an actual number.  We do this by using the [to_timedelta()](https://pandas.pydata.org/pandas-docs/version/0.24.0rc1/api/generated/pandas.to_timedelta.html) method.  You can read more about that method on the documentation page.  \n",
    "\n",
    "We're telling pandas that to convert 'Turnaround Time' to units of 1 Day, or 1 'D'."
   ]
  },
  {
   "cell_type": "code",
   "execution_count": 20,
   "metadata": {},
   "outputs": [],
   "source": [
    "angela_df['Turnaround Time'] = angela_df['Turnaround Time'] / pd.to_timedelta(1, unit='D')"
   ]
  },
  {
   "cell_type": "markdown",
   "metadata": {},
   "source": [
    "The next thing we want to do is create a summary table of our customers broken down by month that shows the following:\n",
    "* Customer\n",
    "* Month\n",
    "* Total billed\n",
    "* Total paid\n",
    "* Total balance\n",
    "* Average turnaround time\n",
    "\n",
    "We'll start by converting 'Bill Date' just the month and not the full date. We'll also create a new column to hold the actual month name of the 'Bill Date' column.  We talked about getting the month number earlier.\n",
    "\n",
    "Python gives us an excellent and easy way to get the actual month name: [strftime](https://pandas.pydata.org/pandas-docs/stable/reference/api/pandas.Series.dt.strftime.html), which is short for 'string-formatted time'.  We will use `%B` code to extract what we need.\n",
    "\n",
    "*Note: You can find a complete list of strftime codes at [basic date and time types](https://docs.python.org/3/library/datetime.html#strftime-and-strptime-behavior)*"
   ]
  },
  {
   "cell_type": "code",
   "execution_count": 21,
   "metadata": {},
   "outputs": [],
   "source": [
    "angela_df['Month'] = angela_df['Bill Date'].dt.strftime('%B')\n",
    "angela_df['Bill Date'] = angela_df['Bill Date'].dt.month"
   ]
  },
  {
   "cell_type": "markdown",
   "metadata": {},
   "source": [
    "We are leaving both columns for now so that we can sort by the month number.  Then, in our summary table, we will drop the month number altogether."
   ]
  },
  {
   "cell_type": "markdown",
   "metadata": {},
   "source": [
    "Now we can create our summary table: "
   ]
  },
  {
   "cell_type": "code",
   "execution_count": 22,
   "metadata": {},
   "outputs": [],
   "source": [
    "customer_summary = angela_df.groupby(['Bill Date', 'Month', 'Customer'], as_index=False).agg({\n",
    "                        'Amount': [sum],\n",
    "                        'Paid': [sum],\n",
    "                        'Balance': [sum],\n",
    "                        'Turnaround Time': [\"mean\"]\n",
    "                    })"
   ]
  },
  {
   "cell_type": "code",
   "execution_count": 23,
   "metadata": {},
   "outputs": [
    {
     "data": {
      "text/html": [
       "<div>\n",
       "<style scoped>\n",
       "    .dataframe tbody tr th:only-of-type {\n",
       "        vertical-align: middle;\n",
       "    }\n",
       "\n",
       "    .dataframe tbody tr th {\n",
       "        vertical-align: top;\n",
       "    }\n",
       "\n",
       "    .dataframe thead tr th {\n",
       "        text-align: left;\n",
       "    }\n",
       "</style>\n",
       "<table border=\"1\" class=\"dataframe\">\n",
       "  <thead>\n",
       "    <tr>\n",
       "      <th></th>\n",
       "      <th>Bill Date</th>\n",
       "      <th>Month</th>\n",
       "      <th>Customer</th>\n",
       "      <th>Amount</th>\n",
       "      <th>Paid</th>\n",
       "      <th>Balance</th>\n",
       "      <th>Turnaround Time</th>\n",
       "    </tr>\n",
       "    <tr>\n",
       "      <th></th>\n",
       "      <th></th>\n",
       "      <th></th>\n",
       "      <th></th>\n",
       "      <th>sum</th>\n",
       "      <th>sum</th>\n",
       "      <th>sum</th>\n",
       "      <th>mean</th>\n",
       "    </tr>\n",
       "  </thead>\n",
       "  <tbody>\n",
       "    <tr>\n",
       "      <th>0</th>\n",
       "      <td>3</td>\n",
       "      <td>March</td>\n",
       "      <td>Apex Technology</td>\n",
       "      <td>2475</td>\n",
       "      <td>2400</td>\n",
       "      <td>75</td>\n",
       "      <td>17.0</td>\n",
       "    </tr>\n",
       "    <tr>\n",
       "      <th>1</th>\n",
       "      <td>3</td>\n",
       "      <td>March</td>\n",
       "      <td>Barbara Allen</td>\n",
       "      <td>2475</td>\n",
       "      <td>2475</td>\n",
       "      <td>0</td>\n",
       "      <td>17.0</td>\n",
       "    </tr>\n",
       "    <tr>\n",
       "      <th>2</th>\n",
       "      <td>3</td>\n",
       "      <td>March</td>\n",
       "      <td>Blue Cross</td>\n",
       "      <td>9900</td>\n",
       "      <td>9900</td>\n",
       "      <td>0</td>\n",
       "      <td>14.0</td>\n",
       "    </tr>\n",
       "    <tr>\n",
       "      <th>3</th>\n",
       "      <td>3</td>\n",
       "      <td>March</td>\n",
       "      <td>Bob Vance</td>\n",
       "      <td>2475</td>\n",
       "      <td>2475</td>\n",
       "      <td>0</td>\n",
       "      <td>17.0</td>\n",
       "    </tr>\n",
       "    <tr>\n",
       "      <th>4</th>\n",
       "      <td>3</td>\n",
       "      <td>March</td>\n",
       "      <td>Decker Automotive</td>\n",
       "      <td>3300</td>\n",
       "      <td>3000</td>\n",
       "      <td>300</td>\n",
       "      <td>14.0</td>\n",
       "    </tr>\n",
       "  </tbody>\n",
       "</table>\n",
       "</div>"
      ],
      "text/plain": [
       "  Bill Date  Month           Customer Amount  Paid Balance Turnaround Time\n",
       "                                         sum   sum     sum            mean\n",
       "0         3  March    Apex Technology   2475  2400      75            17.0\n",
       "1         3  March      Barbara Allen   2475  2475       0            17.0\n",
       "2         3  March         Blue Cross   9900  9900       0            14.0\n",
       "3         3  March          Bob Vance   2475  2475       0            17.0\n",
       "4         3  March  Decker Automotive   3300  3000     300            14.0"
      ]
     },
     "execution_count": 23,
     "metadata": {},
     "output_type": "execute_result"
    }
   ],
   "source": [
    "customer_summary.head()"
   ]
  },
  {
   "cell_type": "markdown",
   "metadata": {},
   "source": [
    "You'll notice that I put \"mean\" in quotes above.  Some aggregations can be written without quotes and others need to be put in quotations.  You can find more information on the [documentation page](https://pandas.pydata.org/pandas-docs/stable/reference/api/pandas.DataFrame.agg.html).\n",
    "\n",
    "Now that we have our summary table, let's rename the columns and drop 'Bill Date'.  You probably remember the column renaming from the previous lesson."
   ]
  },
  {
   "cell_type": "code",
   "execution_count": 24,
   "metadata": {},
   "outputs": [],
   "source": [
    "customer_summary.columns = ['Bill Date', \n",
    "                            'Month', \n",
    "                            'Customer', \n",
    "                            'Total Billed', \n",
    "                            'Total Paid', \n",
    "                            'Balance', \n",
    "                            'Turnaround Time']"
   ]
  },
  {
   "cell_type": "markdown",
   "metadata": {},
   "source": [
    "To drop a column, we will use [df.drop()](https://pandas.pydata.org/pandas-docs/stable/reference/api/pandas.DataFrame.drop.html):"
   ]
  },
  {
   "cell_type": "code",
   "execution_count": 25,
   "metadata": {},
   "outputs": [],
   "source": [
    "customer_summary.drop(columns=['Bill Date'], inplace=True)"
   ]
  },
  {
   "cell_type": "code",
   "execution_count": 26,
   "metadata": {},
   "outputs": [
    {
     "data": {
      "text/html": [
       "<div>\n",
       "<style scoped>\n",
       "    .dataframe tbody tr th:only-of-type {\n",
       "        vertical-align: middle;\n",
       "    }\n",
       "\n",
       "    .dataframe tbody tr th {\n",
       "        vertical-align: top;\n",
       "    }\n",
       "\n",
       "    .dataframe thead th {\n",
       "        text-align: right;\n",
       "    }\n",
       "</style>\n",
       "<table border=\"1\" class=\"dataframe\">\n",
       "  <thead>\n",
       "    <tr style=\"text-align: right;\">\n",
       "      <th></th>\n",
       "      <th>Month</th>\n",
       "      <th>Customer</th>\n",
       "      <th>Total Billed</th>\n",
       "      <th>Total Paid</th>\n",
       "      <th>Balance</th>\n",
       "      <th>Turnaround Time</th>\n",
       "    </tr>\n",
       "  </thead>\n",
       "  <tbody>\n",
       "    <tr>\n",
       "      <th>0</th>\n",
       "      <td>March</td>\n",
       "      <td>Apex Technology</td>\n",
       "      <td>2475</td>\n",
       "      <td>2400</td>\n",
       "      <td>75</td>\n",
       "      <td>17.0</td>\n",
       "    </tr>\n",
       "    <tr>\n",
       "      <th>1</th>\n",
       "      <td>March</td>\n",
       "      <td>Barbara Allen</td>\n",
       "      <td>2475</td>\n",
       "      <td>2475</td>\n",
       "      <td>0</td>\n",
       "      <td>17.0</td>\n",
       "    </tr>\n",
       "    <tr>\n",
       "      <th>2</th>\n",
       "      <td>March</td>\n",
       "      <td>Blue Cross</td>\n",
       "      <td>9900</td>\n",
       "      <td>9900</td>\n",
       "      <td>0</td>\n",
       "      <td>14.0</td>\n",
       "    </tr>\n",
       "    <tr>\n",
       "      <th>3</th>\n",
       "      <td>March</td>\n",
       "      <td>Bob Vance</td>\n",
       "      <td>2475</td>\n",
       "      <td>2475</td>\n",
       "      <td>0</td>\n",
       "      <td>17.0</td>\n",
       "    </tr>\n",
       "    <tr>\n",
       "      <th>4</th>\n",
       "      <td>March</td>\n",
       "      <td>Decker Automotive</td>\n",
       "      <td>3300</td>\n",
       "      <td>3000</td>\n",
       "      <td>300</td>\n",
       "      <td>14.0</td>\n",
       "    </tr>\n",
       "  </tbody>\n",
       "</table>\n",
       "</div>"
      ],
      "text/plain": [
       "   Month           Customer  Total Billed  Total Paid  Balance  \\\n",
       "0  March    Apex Technology          2475        2400       75   \n",
       "1  March      Barbara Allen          2475        2475        0   \n",
       "2  March         Blue Cross          9900        9900        0   \n",
       "3  March          Bob Vance          2475        2475        0   \n",
       "4  March  Decker Automotive          3300        3000      300   \n",
       "\n",
       "   Turnaround Time  \n",
       "0             17.0  \n",
       "1             17.0  \n",
       "2             14.0  \n",
       "3             17.0  \n",
       "4             14.0  "
      ]
     },
     "execution_count": 26,
     "metadata": {},
     "output_type": "execute_result"
    }
   ],
   "source": [
    "customer_summary.head()"
   ]
  },
  {
   "cell_type": "markdown",
   "metadata": {},
   "source": [
    "This table is far from perfect, we have some `NaN` values that we will talk about in the next lesson, and ideally this whole table would be split into separate tables by month or by customer.  We will also be covering that before the class is over.  For now, let's get our other two sheets taken care of then write this data to Excel.\n",
    "\n",
    "Let's tackle Kevin's worksheet first:"
   ]
  },
  {
   "cell_type": "code",
   "execution_count": 27,
   "metadata": {},
   "outputs": [],
   "source": [
    "kevin_df = frames['Kevin']"
   ]
  },
  {
   "cell_type": "code",
   "execution_count": 28,
   "metadata": {},
   "outputs": [
    {
     "data": {
      "text/html": [
       "<div>\n",
       "<style scoped>\n",
       "    .dataframe tbody tr th:only-of-type {\n",
       "        vertical-align: middle;\n",
       "    }\n",
       "\n",
       "    .dataframe tbody tr th {\n",
       "        vertical-align: top;\n",
       "    }\n",
       "\n",
       "    .dataframe thead th {\n",
       "        text-align: right;\n",
       "    }\n",
       "</style>\n",
       "<table border=\"1\" class=\"dataframe\">\n",
       "  <thead>\n",
       "    <tr style=\"text-align: right;\">\n",
       "      <th></th>\n",
       "      <th>Employee</th>\n",
       "      <th>Date</th>\n",
       "      <th>Expense</th>\n",
       "      <th>Amount Requested</th>\n",
       "      <th>Justification</th>\n",
       "      <th>Amount Paid</th>\n",
       "    </tr>\n",
       "  </thead>\n",
       "  <tbody>\n",
       "    <tr>\n",
       "      <th>0</th>\n",
       "      <td>Michael</td>\n",
       "      <td>2019-03-01</td>\n",
       "      <td>Gas to NY</td>\n",
       "      <td>75</td>\n",
       "      <td>Seeing Jan</td>\n",
       "      <td>75</td>\n",
       "    </tr>\n",
       "    <tr>\n",
       "      <th>1</th>\n",
       "      <td>Michael</td>\n",
       "      <td>2019-03-07</td>\n",
       "      <td>Gas to NY</td>\n",
       "      <td>75</td>\n",
       "      <td>Seeing Jan</td>\n",
       "      <td>75</td>\n",
       "    </tr>\n",
       "    <tr>\n",
       "      <th>2</th>\n",
       "      <td>Michael</td>\n",
       "      <td>2019-03-09</td>\n",
       "      <td>Gas to NY</td>\n",
       "      <td>75</td>\n",
       "      <td>Seeing Jan</td>\n",
       "      <td>75</td>\n",
       "    </tr>\n",
       "    <tr>\n",
       "      <th>3</th>\n",
       "      <td>Darryl</td>\n",
       "      <td>2019-03-01</td>\n",
       "      <td>Food</td>\n",
       "      <td>50</td>\n",
       "      <td>Warehouse Lunch</td>\n",
       "      <td>50</td>\n",
       "    </tr>\n",
       "    <tr>\n",
       "      <th>4</th>\n",
       "      <td>Michael</td>\n",
       "      <td>2019-03-15</td>\n",
       "      <td>Food</td>\n",
       "      <td>200</td>\n",
       "      <td>Dinner with Jan</td>\n",
       "      <td>150</td>\n",
       "    </tr>\n",
       "  </tbody>\n",
       "</table>\n",
       "</div>"
      ],
      "text/plain": [
       "  Employee       Date    Expense  Amount Requested    Justification  \\\n",
       "0  Michael 2019-03-01  Gas to NY                75       Seeing Jan   \n",
       "1  Michael 2019-03-07  Gas to NY                75       Seeing Jan   \n",
       "2  Michael 2019-03-09  Gas to NY                75       Seeing Jan   \n",
       "3   Darryl 2019-03-01       Food                50  Warehouse Lunch   \n",
       "4  Michael 2019-03-15       Food               200  Dinner with Jan   \n",
       "\n",
       "   Amount Paid  \n",
       "0           75  \n",
       "1           75  \n",
       "2           75  \n",
       "3           50  \n",
       "4          150  "
      ]
     },
     "execution_count": 28,
     "metadata": {},
     "output_type": "execute_result"
    }
   ],
   "source": [
    "kevin_df.head()"
   ]
  },
  {
   "cell_type": "code",
   "execution_count": 29,
   "metadata": {},
   "outputs": [],
   "source": [
    "# Get the month column\n",
    "kevin_df['Month'] = kevin_df['Date'].dt.strftime('%B')"
   ]
  },
  {
   "cell_type": "code",
   "execution_count": 30,
   "metadata": {},
   "outputs": [],
   "source": [
    "# Convert the month column to the number of the month\n",
    "kevin_df['Date'] = kevin_df['Date'].dt.month"
   ]
  },
  {
   "cell_type": "code",
   "execution_count": 31,
   "metadata": {},
   "outputs": [],
   "source": [
    "expenses_summary = kevin_df.groupby(['Date', 'Month', 'Employee'], as_index=False).agg({\n",
    "    'Amount Requested': [sum],\n",
    "    'Amount Paid': [sum],\n",
    "})"
   ]
  },
  {
   "cell_type": "code",
   "execution_count": 32,
   "metadata": {},
   "outputs": [
    {
     "data": {
      "text/html": [
       "<div>\n",
       "<style scoped>\n",
       "    .dataframe tbody tr th:only-of-type {\n",
       "        vertical-align: middle;\n",
       "    }\n",
       "\n",
       "    .dataframe tbody tr th {\n",
       "        vertical-align: top;\n",
       "    }\n",
       "\n",
       "    .dataframe thead tr th {\n",
       "        text-align: left;\n",
       "    }\n",
       "</style>\n",
       "<table border=\"1\" class=\"dataframe\">\n",
       "  <thead>\n",
       "    <tr>\n",
       "      <th></th>\n",
       "      <th>Date</th>\n",
       "      <th>Month</th>\n",
       "      <th>Employee</th>\n",
       "      <th>Amount Requested</th>\n",
       "      <th>Amount Paid</th>\n",
       "    </tr>\n",
       "    <tr>\n",
       "      <th></th>\n",
       "      <th></th>\n",
       "      <th></th>\n",
       "      <th></th>\n",
       "      <th>sum</th>\n",
       "      <th>sum</th>\n",
       "    </tr>\n",
       "  </thead>\n",
       "  <tbody>\n",
       "    <tr>\n",
       "      <th>0</th>\n",
       "      <td>3</td>\n",
       "      <td>March</td>\n",
       "      <td>Darryl</td>\n",
       "      <td>50</td>\n",
       "      <td>50</td>\n",
       "    </tr>\n",
       "    <tr>\n",
       "      <th>1</th>\n",
       "      <td>3</td>\n",
       "      <td>March</td>\n",
       "      <td>Michael</td>\n",
       "      <td>800</td>\n",
       "      <td>450</td>\n",
       "    </tr>\n",
       "    <tr>\n",
       "      <th>2</th>\n",
       "      <td>4</td>\n",
       "      <td>April</td>\n",
       "      <td>Andy</td>\n",
       "      <td>200</td>\n",
       "      <td>100</td>\n",
       "    </tr>\n",
       "    <tr>\n",
       "      <th>3</th>\n",
       "      <td>4</td>\n",
       "      <td>April</td>\n",
       "      <td>Dwight</td>\n",
       "      <td>100</td>\n",
       "      <td>100</td>\n",
       "    </tr>\n",
       "    <tr>\n",
       "      <th>4</th>\n",
       "      <td>4</td>\n",
       "      <td>April</td>\n",
       "      <td>Jim</td>\n",
       "      <td>100</td>\n",
       "      <td>100</td>\n",
       "    </tr>\n",
       "  </tbody>\n",
       "</table>\n",
       "</div>"
      ],
      "text/plain": [
       "  Date  Month Employee Amount Requested Amount Paid\n",
       "                                    sum         sum\n",
       "0    3  March   Darryl               50          50\n",
       "1    3  March  Michael              800         450\n",
       "2    4  April     Andy              200         100\n",
       "3    4  April   Dwight              100         100\n",
       "4    4  April      Jim              100         100"
      ]
     },
     "execution_count": 32,
     "metadata": {},
     "output_type": "execute_result"
    }
   ],
   "source": [
    "expenses_summary.head()"
   ]
  },
  {
   "cell_type": "code",
   "execution_count": 33,
   "metadata": {},
   "outputs": [],
   "source": [
    "expenses_summary.columns = ['Date', 'Month', 'Employee', 'Amount Requested', 'Amount Paid']\n",
    "expenses_summary.drop(columns=['Date'], inplace=True)"
   ]
  },
  {
   "cell_type": "code",
   "execution_count": 34,
   "metadata": {},
   "outputs": [
    {
     "data": {
      "text/html": [
       "<div>\n",
       "<style scoped>\n",
       "    .dataframe tbody tr th:only-of-type {\n",
       "        vertical-align: middle;\n",
       "    }\n",
       "\n",
       "    .dataframe tbody tr th {\n",
       "        vertical-align: top;\n",
       "    }\n",
       "\n",
       "    .dataframe thead th {\n",
       "        text-align: right;\n",
       "    }\n",
       "</style>\n",
       "<table border=\"1\" class=\"dataframe\">\n",
       "  <thead>\n",
       "    <tr style=\"text-align: right;\">\n",
       "      <th></th>\n",
       "      <th>Month</th>\n",
       "      <th>Employee</th>\n",
       "      <th>Amount Requested</th>\n",
       "      <th>Amount Paid</th>\n",
       "    </tr>\n",
       "  </thead>\n",
       "  <tbody>\n",
       "    <tr>\n",
       "      <th>0</th>\n",
       "      <td>March</td>\n",
       "      <td>Darryl</td>\n",
       "      <td>50</td>\n",
       "      <td>50</td>\n",
       "    </tr>\n",
       "    <tr>\n",
       "      <th>1</th>\n",
       "      <td>March</td>\n",
       "      <td>Michael</td>\n",
       "      <td>800</td>\n",
       "      <td>450</td>\n",
       "    </tr>\n",
       "    <tr>\n",
       "      <th>2</th>\n",
       "      <td>April</td>\n",
       "      <td>Andy</td>\n",
       "      <td>200</td>\n",
       "      <td>100</td>\n",
       "    </tr>\n",
       "    <tr>\n",
       "      <th>3</th>\n",
       "      <td>April</td>\n",
       "      <td>Dwight</td>\n",
       "      <td>100</td>\n",
       "      <td>100</td>\n",
       "    </tr>\n",
       "    <tr>\n",
       "      <th>4</th>\n",
       "      <td>April</td>\n",
       "      <td>Jim</td>\n",
       "      <td>100</td>\n",
       "      <td>100</td>\n",
       "    </tr>\n",
       "  </tbody>\n",
       "</table>\n",
       "</div>"
      ],
      "text/plain": [
       "   Month Employee  Amount Requested  Amount Paid\n",
       "0  March   Darryl                50           50\n",
       "1  March  Michael               800          450\n",
       "2  April     Andy               200          100\n",
       "3  April   Dwight               100          100\n",
       "4  April      Jim               100          100"
      ]
     },
     "execution_count": 34,
     "metadata": {},
     "output_type": "execute_result"
    }
   ],
   "source": [
    "expenses_summary.head()"
   ]
  },
  {
   "cell_type": "markdown",
   "metadata": {},
   "source": [
    "And now Oscar's report:"
   ]
  },
  {
   "cell_type": "code",
   "execution_count": 35,
   "metadata": {},
   "outputs": [],
   "source": [
    "company_expenses = frames['Oscar']"
   ]
  },
  {
   "cell_type": "code",
   "execution_count": 36,
   "metadata": {},
   "outputs": [
    {
     "data": {
      "text/html": [
       "<div>\n",
       "<style scoped>\n",
       "    .dataframe tbody tr th:only-of-type {\n",
       "        vertical-align: middle;\n",
       "    }\n",
       "\n",
       "    .dataframe tbody tr th {\n",
       "        vertical-align: top;\n",
       "    }\n",
       "\n",
       "    .dataframe thead th {\n",
       "        text-align: right;\n",
       "    }\n",
       "</style>\n",
       "<table border=\"1\" class=\"dataframe\">\n",
       "  <thead>\n",
       "    <tr style=\"text-align: right;\">\n",
       "      <th></th>\n",
       "      <th>Month</th>\n",
       "      <th>Item</th>\n",
       "      <th>Amount Paid</th>\n",
       "    </tr>\n",
       "  </thead>\n",
       "  <tbody>\n",
       "    <tr>\n",
       "      <th>0</th>\n",
       "      <td>March</td>\n",
       "      <td>HammerMill Paper</td>\n",
       "      <td>1000</td>\n",
       "    </tr>\n",
       "    <tr>\n",
       "      <th>1</th>\n",
       "      <td>March</td>\n",
       "      <td>Fuel - Warehouse</td>\n",
       "      <td>200</td>\n",
       "    </tr>\n",
       "    <tr>\n",
       "      <th>2</th>\n",
       "      <td>March</td>\n",
       "      <td>Equipment - Warehouse</td>\n",
       "      <td>500</td>\n",
       "    </tr>\n",
       "    <tr>\n",
       "      <th>3</th>\n",
       "      <td>March</td>\n",
       "      <td>Chrysler Seabring Lease</td>\n",
       "      <td>350</td>\n",
       "    </tr>\n",
       "    <tr>\n",
       "      <th>4</th>\n",
       "      <td>March</td>\n",
       "      <td>Georgia-Pacific Paper</td>\n",
       "      <td>750</td>\n",
       "    </tr>\n",
       "  </tbody>\n",
       "</table>\n",
       "</div>"
      ],
      "text/plain": [
       "   Month                     Item  Amount Paid\n",
       "0  March         HammerMill Paper         1000\n",
       "1  March         Fuel - Warehouse          200\n",
       "2  March    Equipment - Warehouse          500\n",
       "3  March  Chrysler Seabring Lease          350\n",
       "4  March    Georgia-Pacific Paper          750"
      ]
     },
     "execution_count": 36,
     "metadata": {},
     "output_type": "execute_result"
    }
   ],
   "source": [
    "company_expenses.head()"
   ]
  },
  {
   "cell_type": "markdown",
   "metadata": {},
   "source": [
    "### Writing the data to Excel\n",
    "\n",
    "Fortunately, Oscar's sheet is pretty much in the format we want.  It's time to write everything to Excel.  We know from the previous lesson that we need to:\n",
    "1. Define the workbook\n",
    "2. Define the formats\n",
    "3. Define the worksheet\n",
    "4. Write the data\n",
    "5. Save the file\n",
    "\n",
    "Most of this will be familiar.  The key difference is, instead of writing one sheet, we're going to write three and we're going to be using some conditional formats."
   ]
  },
  {
   "cell_type": "markdown",
   "metadata": {},
   "source": [
    "#### Define the workbook:"
   ]
  },
  {
   "cell_type": "code",
   "execution_count": 37,
   "metadata": {},
   "outputs": [],
   "source": [
    "output_file = os.path.join('..', 'data', 'accounting_summary.xlsx')\n",
    "writer = pd.ExcelWriter(output_file, engine='xlsxwriter')\n",
    "workbook = writer.book"
   ]
  },
  {
   "cell_type": "markdown",
   "metadata": {},
   "source": [
    "#### Define the formats:\n",
    "* Here we're going to use the same header format form the previous lesson.\n",
    "* You can always loook at the [xlsxwriter](https://xlsxwriter.readthedocs.io/format.html) documentation page for more references.  \n",
    "* Remember, for our header format we use:\n",
    "1. Bold Font\n",
    "2. Center Alignment\n",
    "3. Top Vertical Alignment\n",
    "4. A background and font color matching Excel's built-in Accent 1 style."
   ]
  },
  {
   "cell_type": "code",
   "execution_count": 38,
   "metadata": {},
   "outputs": [],
   "source": [
    "# Define the format for our header:\n",
    "header_format = workbook.add_format({\n",
    "    'bold': True, #Bold Font: This value must be either True or False\n",
    "    'align': 'center', #Center Alignment\n",
    "    'valign': 'top', #Top Alignment\n",
    "    'fg_color': '#4472C1', #Cell Color\n",
    "    'font_color': 'white', #Font Color\n",
    "    'font_size': 12, #Font Size\n",
    "})"
   ]
  },
  {
   "cell_type": "code",
   "execution_count": 39,
   "metadata": {},
   "outputs": [],
   "source": [
    "# Define the format for our numbers:\n",
    "money_format = workbook.add_format({'num_format': '$#,##0'})\n",
    "number_format = workbook.add_format({'num_format': '#,##0'})"
   ]
  },
  {
   "cell_type": "markdown",
   "metadata": {},
   "source": [
    "#### Conditional Format:\n",
    "* Now let's define our conditional format.  We want any customer with a negative balance to show as Excel's \"Light red fill with dark text\".  \n",
    "* To do that we'll define a background color (bg_color) of '#FFC7CE' which is the color Excel uses.\n",
    "* We'll also define a font color (font_color) of '#9C0006'."
   ]
  },
  {
   "cell_type": "code",
   "execution_count": 40,
   "metadata": {},
   "outputs": [],
   "source": [
    "red_color = workbook.add_format({'bg_color': '#FFC7CE',\n",
    "                            'font_color': '#9C0006'})"
   ]
  },
  {
   "cell_type": "markdown",
   "metadata": {},
   "source": [
    "#### Write the Data to Excel:\n",
    "* We have three DataFrames: 'customer_summary', 'expenses_summary', and 'company_expenses'\n",
    "* We'll write each one to the workbook before saving the file.\n",
    "* We'll also add the conditional formatting to customer_summary."
   ]
  },
  {
   "cell_type": "code",
   "execution_count": 41,
   "metadata": {},
   "outputs": [],
   "source": [
    "# Define the customer summary sheet and write the data to Excel\n",
    "sheet = 'Customer Summary'\n",
    "customer_summary.to_excel(writer, sheet_name=sheet, index=False)"
   ]
  },
  {
   "cell_type": "code",
   "execution_count": 42,
   "metadata": {},
   "outputs": [],
   "source": [
    "# Define the worksheet\n",
    "worksheet = writer.sheets[sheet]"
   ]
  },
  {
   "cell_type": "code",
   "execution_count": 43,
   "metadata": {},
   "outputs": [],
   "source": [
    "# Write the headers to the worksheet\n",
    "for col_num, value in enumerate(customer_summary.columns.values):\n",
    "    worksheet.write(0, col_num, value, header_format)"
   ]
  },
  {
   "cell_type": "code",
   "execution_count": 44,
   "metadata": {},
   "outputs": [
    {
     "data": {
      "text/plain": [
       "0"
      ]
     },
     "execution_count": 44,
     "metadata": {},
     "output_type": "execute_result"
    }
   ],
   "source": [
    "# Set the numerical columns\n",
    "worksheet.set_column('A:B', 14, None)\n",
    "worksheet.set_column('C:E', 14, money_format)\n",
    "worksheet.set_column('F:F', 14, number_format)"
   ]
  },
  {
   "cell_type": "markdown",
   "metadata": {},
   "source": [
    "#### Assigning the conditional formats\n",
    "* To assign a conditional format, we use the method outlined on the [conditional format](https://xlsxwriter.readthedocs.io/working_with_conditional_formats.html) page of Xlsxwriter.\n",
    "* We need the first row, the first column, the last row, and last column where we want the formatting applied.\n",
    "* Then we need to assign the criteria for the format.\n",
    "* Lastly we state what format to apply: All cells in the defined range where the value is less than zero."
   ]
  },
  {
   "cell_type": "code",
   "execution_count": 45,
   "metadata": {},
   "outputs": [],
   "source": [
    "# Set the conditional formats\n",
    "first_row = 1 # The first row where we have data\n",
    "first_column = 4 # The balance column\n",
    "last_row = len(customer_summary.index) # The length of the DataFrame\n",
    "last_column = 4 # because we only want the formatting applied to the balance column\n",
    "conditions = {\n",
    "    'type': 'cell', # Because we want to apply the formatting to each individual cell\n",
    "    'criteria': '<', # for less than\n",
    "    'value': 0,\n",
    "    'format': red_color,\n",
    "}\n",
    "\n",
    "worksheet.conditional_format(first_row,\n",
    "                            first_column,\n",
    "                            last_row,\n",
    "                            last_column,\n",
    "                            conditions,)"
   ]
  },
  {
   "cell_type": "markdown",
   "metadata": {},
   "source": [
    "### Writing the remaining sheets\n",
    "* We have our first sheet completed.  Writing the remaining sheets should not be too difficult.\n",
    "* Complete the exercises below to write the remaining sheets to the file and save the workbook.\n",
    "\n",
    "#### Expenses Summary Exercise\n",
    "* Sheet Name: `Expense Summary`\n",
    "* DataFrame: `expenses_summary`\n",
    "* None Columns: `Month, Employee`\n",
    "* Money Columns: `Amount Requested, Amount Paid`\n",
    "* Complete the code below using the information provided.\n",
    "* You can get the letters for the columns by looking at the .head() output earlier, with `Month` being Column A. "
   ]
  },
  {
   "cell_type": "code",
   "execution_count": 48,
   "metadata": {},
   "outputs": [
    {
     "data": {
      "text/plain": [
       "0"
      ]
     },
     "execution_count": 48,
     "metadata": {},
     "output_type": "execute_result"
    }
   ],
   "source": [
    "# Define the sheet\n",
    "sheet = 'Expense Summary'\n",
    "\n",
    "# Write the Dataframe to Excel\n",
    "expenses_summary.to_excel(writer, sheet_name=sheet, index=False)\n",
    "\n",
    "# Define the worksheet\n",
    "worksheet = writer.sheets[sheet]\n",
    "\n",
    "# Write the headers to the worksheet\n",
    "for col_num, value in enumerate(expenses_summary.columns.values):\n",
    "    worksheet.write(0, col_num, value, header_format)\n",
    "\n",
    "# Set the numerical columns\n",
    "worksheet.set_column('A:B', 14, None)\n",
    "worksheet.set_column('C:D', 14, money_format)"
   ]
  },
  {
   "cell_type": "markdown",
   "metadata": {},
   "source": [
    "#### Expenses Summary Exercise\n",
    "* Sheet Name: `Company Expenses`\n",
    "* DataFrame: `company_expenses`\n",
    "* None Columns: `Month, Items`\n",
    "* Money Columns: `Amount Paid`\n",
    "* Complete the code below using the information provided."
   ]
  },
  {
   "cell_type": "code",
   "execution_count": 49,
   "metadata": {},
   "outputs": [
    {
     "data": {
      "text/plain": [
       "0"
      ]
     },
     "execution_count": 49,
     "metadata": {},
     "output_type": "execute_result"
    }
   ],
   "source": [
    "# Define the sheet\n",
    "sheet = 'Company Expenses'\n",
    "company_expenses.to_excel(writer, sheet_name=sheet, index=False)\n",
    "# Define the worksheet\n",
    "worksheet = writer.sheets[sheet]\n",
    "# Write the headers to the worksheet\n",
    "for col_num, value in enumerate(company_expenses.columns.values):\n",
    "    worksheet.write(0, col_num, value, header_format)\n",
    "# Set the numerical columns\n",
    "worksheet.set_column('A:B', 14, None)\n",
    "worksheet.set_column('C:C', 14, money_format)"
   ]
  },
  {
   "cell_type": "markdown",
   "metadata": {},
   "source": [
    "#### Save the File:"
   ]
  },
  {
   "cell_type": "code",
   "execution_count": 50,
   "metadata": {},
   "outputs": [],
   "source": [
    "writer.save()"
   ]
  },
  {
   "cell_type": "code",
   "execution_count": 51,
   "metadata": {},
   "outputs": [
    {
     "data": {
      "text/html": [
       "<div>\n",
       "<style scoped>\n",
       "    .dataframe tbody tr th:only-of-type {\n",
       "        vertical-align: middle;\n",
       "    }\n",
       "\n",
       "    .dataframe tbody tr th {\n",
       "        vertical-align: top;\n",
       "    }\n",
       "\n",
       "    .dataframe thead th {\n",
       "        text-align: right;\n",
       "    }\n",
       "</style>\n",
       "<table border=\"1\" class=\"dataframe\">\n",
       "  <thead>\n",
       "    <tr style=\"text-align: right;\">\n",
       "      <th></th>\n",
       "      <th>Month</th>\n",
       "      <th>Employee</th>\n",
       "      <th>Amount Requested</th>\n",
       "      <th>Amount Paid</th>\n",
       "    </tr>\n",
       "  </thead>\n",
       "  <tbody>\n",
       "    <tr>\n",
       "      <th>0</th>\n",
       "      <td>March</td>\n",
       "      <td>Darryl</td>\n",
       "      <td>50</td>\n",
       "      <td>50</td>\n",
       "    </tr>\n",
       "    <tr>\n",
       "      <th>1</th>\n",
       "      <td>March</td>\n",
       "      <td>Michael</td>\n",
       "      <td>800</td>\n",
       "      <td>450</td>\n",
       "    </tr>\n",
       "    <tr>\n",
       "      <th>2</th>\n",
       "      <td>April</td>\n",
       "      <td>Andy</td>\n",
       "      <td>200</td>\n",
       "      <td>100</td>\n",
       "    </tr>\n",
       "    <tr>\n",
       "      <th>3</th>\n",
       "      <td>April</td>\n",
       "      <td>Dwight</td>\n",
       "      <td>100</td>\n",
       "      <td>100</td>\n",
       "    </tr>\n",
       "    <tr>\n",
       "      <th>4</th>\n",
       "      <td>April</td>\n",
       "      <td>Jim</td>\n",
       "      <td>100</td>\n",
       "      <td>100</td>\n",
       "    </tr>\n",
       "  </tbody>\n",
       "</table>\n",
       "</div>"
      ],
      "text/plain": [
       "   Month Employee  Amount Requested  Amount Paid\n",
       "0  March   Darryl                50           50\n",
       "1  March  Michael               800          450\n",
       "2  April     Andy               200          100\n",
       "3  April   Dwight               100          100\n",
       "4  April      Jim               100          100"
      ]
     },
     "execution_count": 51,
     "metadata": {},
     "output_type": "execute_result"
    }
   ],
   "source": [
    "expenses_summary.head()"
   ]
  },
  {
   "cell_type": "code",
   "execution_count": 52,
   "metadata": {},
   "outputs": [
    {
     "data": {
      "text/html": [
       "<div>\n",
       "<style scoped>\n",
       "    .dataframe tbody tr th:only-of-type {\n",
       "        vertical-align: middle;\n",
       "    }\n",
       "\n",
       "    .dataframe tbody tr th {\n",
       "        vertical-align: top;\n",
       "    }\n",
       "\n",
       "    .dataframe thead th {\n",
       "        text-align: right;\n",
       "    }\n",
       "</style>\n",
       "<table border=\"1\" class=\"dataframe\">\n",
       "  <thead>\n",
       "    <tr style=\"text-align: right;\">\n",
       "      <th></th>\n",
       "      <th>Month</th>\n",
       "      <th>Item</th>\n",
       "      <th>Amount Paid</th>\n",
       "    </tr>\n",
       "  </thead>\n",
       "  <tbody>\n",
       "    <tr>\n",
       "      <th>0</th>\n",
       "      <td>March</td>\n",
       "      <td>HammerMill Paper</td>\n",
       "      <td>1000</td>\n",
       "    </tr>\n",
       "    <tr>\n",
       "      <th>1</th>\n",
       "      <td>March</td>\n",
       "      <td>Fuel - Warehouse</td>\n",
       "      <td>200</td>\n",
       "    </tr>\n",
       "    <tr>\n",
       "      <th>2</th>\n",
       "      <td>March</td>\n",
       "      <td>Equipment - Warehouse</td>\n",
       "      <td>500</td>\n",
       "    </tr>\n",
       "    <tr>\n",
       "      <th>3</th>\n",
       "      <td>March</td>\n",
       "      <td>Chrysler Seabring Lease</td>\n",
       "      <td>350</td>\n",
       "    </tr>\n",
       "    <tr>\n",
       "      <th>4</th>\n",
       "      <td>March</td>\n",
       "      <td>Georgia-Pacific Paper</td>\n",
       "      <td>750</td>\n",
       "    </tr>\n",
       "  </tbody>\n",
       "</table>\n",
       "</div>"
      ],
      "text/plain": [
       "   Month                     Item  Amount Paid\n",
       "0  March         HammerMill Paper         1000\n",
       "1  March         Fuel - Warehouse          200\n",
       "2  March    Equipment - Warehouse          500\n",
       "3  March  Chrysler Seabring Lease          350\n",
       "4  March    Georgia-Pacific Paper          750"
      ]
     },
     "execution_count": 52,
     "metadata": {},
     "output_type": "execute_result"
    }
   ],
   "source": [
    "company_expenses.head()"
   ]
  },
  {
   "cell_type": "code",
   "execution_count": null,
   "metadata": {},
   "outputs": [],
   "source": []
  }
 ],
 "metadata": {
  "kernelspec": {
   "display_name": "Python 3",
   "language": "python",
   "name": "python3"
  },
  "language_info": {
   "codemirror_mode": {
    "name": "ipython",
    "version": 3
   },
   "file_extension": ".py",
   "mimetype": "text/x-python",
   "name": "python",
   "nbconvert_exporter": "python",
   "pygments_lexer": "ipython3",
   "version": "3.7.3"
  }
 },
 "nbformat": 4,
 "nbformat_minor": 2
}
